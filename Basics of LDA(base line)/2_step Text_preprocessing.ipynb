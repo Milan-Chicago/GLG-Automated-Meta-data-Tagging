{
 "cells": [
  {
   "cell_type": "markdown",
   "metadata": {},
   "source": [
    "# Load data and python libraries"
   ]
  },
  {
   "cell_type": "code",
   "execution_count": 1,
   "metadata": {},
   "outputs": [],
   "source": [
    "# make plot s appear after the code cell\n",
    "%matplotlib inline \n",
    "\n",
    "# data processing libraries\n",
    "import pandas as pd\n",
    "\n",
    "# display wider columns in pandas data frames where necessary\n",
    "pd.set_option('max_colwidth',150)\n",
    "\n",
    "# text processing libraries\n",
    "import gensim\n",
    "import re\n",
    "import spacy \n",
    "from spacy.lang.en.stop_words import STOP_WORDS\n",
    "\n",
    "import en_core_web_md \n",
    "\n",
    "# Initialize spacy model, keeping only tagger component (for efficiency)\n",
    "nlp = en_core_web_md.load(disable=['parser', 'ner'])\n",
    "\n",
    "# data visualization libraries\n",
    "import matplotlib.pyplot as plt\n",
    "import seaborn as sns\n",
    "\n",
    "# supporting libraries\n",
    "import pickle\n",
    "import numpy as np\n",
    "import collections\n",
    "from multiprocessing import Pool"
   ]
  },
  {
   "cell_type": "code",
   "execution_count": 2,
   "metadata": {},
   "outputs": [],
   "source": [
    "# file location of the cleaned data frame\n",
    "input_folder = './transition_files/'\n",
    "output_folder = './transition_files/'\n",
    "\n",
    "file_name = 'clean_data.pickle'"
   ]
  },
  {
   "cell_type": "code",
   "execution_count": 3,
   "metadata": {},
   "outputs": [
    {
     "data": {
      "text/html": [
       "<div>\n",
       "<style scoped>\n",
       "    .dataframe tbody tr th:only-of-type {\n",
       "        vertical-align: middle;\n",
       "    }\n",
       "\n",
       "    .dataframe tbody tr th {\n",
       "        vertical-align: top;\n",
       "    }\n",
       "\n",
       "    .dataframe thead th {\n",
       "        text-align: right;\n",
       "    }\n",
       "</style>\n",
       "<table border=\"1\" class=\"dataframe\">\n",
       "  <thead>\n",
       "    <tr style=\"text-align: right;\">\n",
       "      <th></th>\n",
       "      <th>272241</th>\n",
       "    </tr>\n",
       "  </thead>\n",
       "  <tbody>\n",
       "    <tr>\n",
       "      <th>Hotel_ID</th>\n",
       "      <td>420</td>\n",
       "    </tr>\n",
       "    <tr>\n",
       "      <th>Hotel_originalname</th>\n",
       "      <td>HYATT PLACE</td>\n",
       "    </tr>\n",
       "    <tr>\n",
       "      <th>address</th>\n",
       "      <td>1610 E Sonterra Blvd, San Antonio, TX 78258-7627</td>\n",
       "    </tr>\n",
       "    <tr>\n",
       "      <th>price_range</th>\n",
       "      <td>CN´712 - CN´1,047</td>\n",
       "    </tr>\n",
       "    <tr>\n",
       "      <th>average_rating</th>\n",
       "      <td>4.5</td>\n",
       "    </tr>\n",
       "    <tr>\n",
       "      <th>number_of_reviews_hotel</th>\n",
       "      <td>633</td>\n",
       "    </tr>\n",
       "    <tr>\n",
       "      <th>hotel_star</th>\n",
       "      <td>3</td>\n",
       "    </tr>\n",
       "    <tr>\n",
       "      <th>Hotel_Name_tripadvisor</th>\n",
       "      <td>Hyatt Place San Antonio-North/Stone Oak</td>\n",
       "    </tr>\n",
       "    <tr>\n",
       "      <th>helpfulness_vote</th>\n",
       "      <td>0</td>\n",
       "    </tr>\n",
       "    <tr>\n",
       "      <th>mgtresponse_content</th>\n",
       "      <td>Thank you for taking the time out of your schedule to complete a review of our hotel on Trip Advisor regarding your recent stay at our hotel. Plea...</td>\n",
       "    </tr>\n",
       "    <tr>\n",
       "      <th>mgtresponse_time</th>\n",
       "      <td>14 February 2011</td>\n",
       "    </tr>\n",
       "    <tr>\n",
       "      <th>individual_ratings</th>\n",
       "      <td>5</td>\n",
       "    </tr>\n",
       "    <tr>\n",
       "      <th>review_content</th>\n",
       "      <td>I was in San Antonio for a wedding during the July 4th weekend. Due to an AA meeting, all the rooms in SA seemed booked. We booked this room throu...</td>\n",
       "    </tr>\n",
       "    <tr>\n",
       "      <th>reviewer_contribution</th>\n",
       "      <td>25</td>\n",
       "    </tr>\n",
       "    <tr>\n",
       "      <th>review_time</th>\n",
       "      <td>Reviewed 23 July 2010</td>\n",
       "    </tr>\n",
       "    <tr>\n",
       "      <th>review_title</th>\n",
       "      <td>Great Hotel; new and spacious rooms with a lot of extras</td>\n",
       "    </tr>\n",
       "    <tr>\n",
       "      <th>reviewer_id</th>\n",
       "      <td>brownman</td>\n",
       "    </tr>\n",
       "    <tr>\n",
       "      <th>mgtresponse_who</th>\n",
       "      <td>HPDOS, Manager at Hyatt Place San Antonio-North/Stone Oak, responded to this review</td>\n",
       "    </tr>\n",
       "    <tr>\n",
       "      <th>review_content_length</th>\n",
       "      <td>1489</td>\n",
       "    </tr>\n",
       "    <tr>\n",
       "      <th>py_review_date</th>\n",
       "      <td>2010-07-02 00:00:00</td>\n",
       "    </tr>\n",
       "    <tr>\n",
       "      <th>tmp_list</th>\n",
       "      <td>[23, July, 2010, ]</td>\n",
       "    </tr>\n",
       "    <tr>\n",
       "      <th>tmp</th>\n",
       "      <td>02</td>\n",
       "    </tr>\n",
       "    <tr>\n",
       "      <th>quarter</th>\n",
       "      <td>Q3</td>\n",
       "    </tr>\n",
       "    <tr>\n",
       "      <th>day_of_week</th>\n",
       "      <td>Friday</td>\n",
       "    </tr>\n",
       "    <tr>\n",
       "      <th>year</th>\n",
       "      <td>2010</td>\n",
       "    </tr>\n",
       "    <tr>\n",
       "      <th>month</th>\n",
       "      <td>July</td>\n",
       "    </tr>\n",
       "    <tr>\n",
       "      <th>year-month</th>\n",
       "      <td>201007</td>\n",
       "    </tr>\n",
       "    <tr>\n",
       "      <th>year-quarter</th>\n",
       "      <td>2010Q3</td>\n",
       "    </tr>\n",
       "  </tbody>\n",
       "</table>\n",
       "</div>"
      ],
      "text/plain": [
       "                                                                                                                                                                        272241\n",
       "Hotel_ID                                                                                                                                                                   420\n",
       "Hotel_originalname                                                                                                                                                 HYATT PLACE\n",
       "address                                                                                                                       1610 E Sonterra Blvd, San Antonio, TX 78258-7627\n",
       "price_range                                                                                                                                                  CN´712 - CN´1,047\n",
       "average_rating                                                                                                                                                             4.5\n",
       "number_of_reviews_hotel                                                                                                                                                    633\n",
       "hotel_star                                                                                                                                                                   3\n",
       "Hotel_Name_tripadvisor                                                                                                                 Hyatt Place San Antonio-North/Stone Oak\n",
       "helpfulness_vote                                                                                                                                                             0\n",
       "mgtresponse_content      Thank you for taking the time out of your schedule to complete a review of our hotel on Trip Advisor regarding your recent stay at our hotel. Plea...\n",
       "mgtresponse_time                                                                                                                                              14 February 2011\n",
       "individual_ratings                                                                                                                                                           5\n",
       "review_content           I was in San Antonio for a wedding during the July 4th weekend. Due to an AA meeting, all the rooms in SA seemed booked. We booked this room throu...\n",
       "reviewer_contribution                                                                                                                                                       25\n",
       "review_time                                                                                                                                             Reviewed 23 July 2010 \n",
       "review_title                                                                                                          Great Hotel; new and spacious rooms with a lot of extras\n",
       "reviewer_id                                                                                                                                                           brownman\n",
       "mgtresponse_who                                                                            HPDOS, Manager at Hyatt Place San Antonio-North/Stone Oak, responded to this review\n",
       "review_content_length                                                                                                                                                     1489\n",
       "py_review_date                                                                                                                                             2010-07-02 00:00:00\n",
       "tmp_list                                                                                                                                                    [23, July, 2010, ]\n",
       "tmp                                                                                                                                                                         02\n",
       "quarter                                                                                                                                                                     Q3\n",
       "day_of_week                                                                                                                                                             Friday\n",
       "year                                                                                                                                                                      2010\n",
       "month                                                                                                                                                                     July\n",
       "year-month                                                                                                                                                              201007\n",
       "year-quarter                                                                                                                                                            2010Q3"
      ]
     },
     "execution_count": 3,
     "metadata": {},
     "output_type": "execute_result"
    }
   ],
   "source": [
    "# load data\n",
    "with open(input_folder + file_name, 'rb') as f:\n",
    "    # The protocol version used is detected automatically, so we do not\n",
    "    # have to specify it.\n",
    "    df_data = pickle.load(f)\n",
    "    \n",
    "# display first row of the data frame\n",
    "df_data.tail(1).T"
   ]
  },
  {
   "cell_type": "code",
   "execution_count": 4,
   "metadata": {},
   "outputs": [],
   "source": [
    "def print_review(df):\n",
    "    \"\"\"\n",
    "    print single review as an example\n",
    "    \"\"\"\n",
    "    row = df.iloc[0]\n",
    "    review_rating = row['individual_ratings']\n",
    "    title = row['review_title']\n",
    "    text = row['review_content']\n",
    "    \n",
    "    print('Rating: ', review_rating)\n",
    "    print('Title: ', title)\n",
    "    print('Review: \\n', text)\n",
    "    print(\"=\"*100,'\\n')"
   ]
  },
  {
   "cell_type": "code",
   "execution_count": 5,
   "metadata": {},
   "outputs": [
    {
     "name": "stdout",
     "output_type": "stream",
     "text": [
      "Rating:  1\n",
      "Title:  WARNING! Massive construction at the hotel right now.\n",
      "Review: \n",
      " WARNING! The entire lobby level and the level below are under construction...and yet the hotel is still charging full price for their rooms! I find this obnoxious. When we complained, they didn't do anything about it, which is even more obnoxious, especially considering the \"restaurant\" at the hotel is in the basement in what is normally a conference room (we felt like we were in makeshift poker room at a Holiday Inn i Reno). At these rates there are many better options in the downtown Austin area. I've stayed at this hotel many times and think the rooms are getting tired, too. We generally like the Four Seasons product, but they can do better.\n",
      "==================================================================================================== \n",
      "\n",
      "Rating:  2\n",
      "Title:  wouldn't honor group rate, room filthy, and very condescending.\n",
      "Review: \n",
      " My wife and I love to travel and we stay in four seasons all over the world. This one is not up to par. I was there for a sports tournament and provided my confirmation email for the group rate. The manager seemed puzzled and said he would look in to it.There were at least 10 others on the same group rate. They were unwilling to extend to me and most of all, the little man on the phone was quite condescending.\n",
      "==================================================================================================== \n",
      "\n",
      "Rating:  3\n",
      "Title:  Under construction!\n",
      "Review: \n",
      " I know itÕs the Four Seasons, but the main lobby, restaurant and bar area are under complete construction. As soon as you walk in, there are construction walls throughout the lobby that only allow you to get to the reception desk and the elevators. The staff is great as always and the rooms have been updated, but I canÕt get over the price for a room where the amenities are limited. IÕm sure when they are finished with the remodel it will be worth it, but for now itÕs too expensive.\n",
      "==================================================================================================== \n",
      "\n",
      "Rating:  4\n",
      "Title:  Nice property but lower level service\n",
      "Review: \n",
      " My room was lacking. The phone, sink and TV did not work properly upon check in. Three hours after the call was made, nothing had been done. Manager was very attentive and responsive to my needs after the foul up.Also lovely pool with no attendant or waiter. i had to call for service.Pretty hotel but not up to Four Seasons standards and certainly not for what they charge.\n",
      "==================================================================================================== \n",
      "\n",
      "Rating:  5\n",
      "Title:  Familia trip\n",
      "Review: \n",
      " I like this hotel a lot. The location, the food, room service and all the personal is great!  IÕve stayed in a suite with a city view. And also in a standard room with the river view which is beautiful!Even though now they are remodeling the hotel, we had a pleasant stay. They made us feel at home. I canÕt wait to see it finished!\n",
      "==================================================================================================== \n",
      "\n"
     ]
    }
   ],
   "source": [
    "# review examples by rating\n",
    "print_review(df_data[df_data['individual_ratings'] == 1])\n",
    "print_review(df_data[df_data['individual_ratings'] == 2])\n",
    "print_review(df_data[df_data['individual_ratings'] == 3])\n",
    "print_review(df_data[df_data['individual_ratings'] == 4])\n",
    "print_review(df_data[df_data['individual_ratings'] == 5])"
   ]
  },
  {
   "cell_type": "code",
   "execution_count": 6,
   "metadata": {},
   "outputs": [],
   "source": [
    "#combine review title and text\n",
    "df_data['text'] = df_data['review_title'].fillna('').apply(str) + '.\\n' + df_data['review_content']"
   ]
  },
  {
   "cell_type": "code",
   "execution_count": 7,
   "metadata": {},
   "outputs": [
    {
     "name": "stdout",
     "output_type": "stream",
     "text": [
      "Data size before the filter: 266805\n",
      "Data size after the filter: 234404\n"
     ]
    }
   ],
   "source": [
    "#delete 3 star reviews\n",
    "print (\"Data size before the filter:\", len(df_data))\n",
    "df_data = df_data[df_data['individual_ratings'].isin([1,2,4,5])]\n",
    "print (\"Data size after the filter:\", len(df_data))"
   ]
  },
  {
   "cell_type": "markdown",
   "metadata": {},
   "source": [
    "# Spell check\n",
    "The process is implemented using word2vec embeddings. It is an adaptation of Peter Norvig's spell checker. It uses word2vec ordering of words to approximate word probabilities.\n",
    "\n",
    "I use pre-trained vectors trained on part of Google News dataset (about 100 billion words). The model contains 300-dimensional vectors for 3 million words and phrases. \n",
    "\n",
    "This notebook requires word2vec model file GoogleNews-vectors-negative300.bin.gz that can be downloaded from Google's word2vec: https://code.google.com/archive/p/word2vec/ (I saved it in the \"./data/\" folder)"
   ]
  },
  {
   "cell_type": "code",
   "execution_count": 8,
   "metadata": {},
   "outputs": [
    {
     "name": "stdout",
     "output_type": "stream",
     "text": [
      "CPU times: user 1min 44s, sys: 1.92 s, total: 1min 46s\n",
      "Wall time: 1min 46s\n"
     ]
    }
   ],
   "source": [
    "# import the model (takes less than 2 minutes to run)\n",
    "%time model = gensim.models.KeyedVectors.load_word2vec_format('./data/GoogleNews-vectors-negative300.bin.gz', binary=True)"
   ]
  },
  {
   "cell_type": "code",
   "execution_count": 9,
   "metadata": {},
   "outputs": [
    {
     "data": {
      "text/plain": [
       "['</s>', 'in', 'for', 'that', 'is', 'on', '##', 'The', 'with', 'said']"
      ]
     },
     "execution_count": 9,
     "metadata": {},
     "output_type": "execute_result"
    }
   ],
   "source": [
    "#example of words in the model:\n",
    "words = model.index2word\n",
    "words[:10]"
   ]
  },
  {
   "cell_type": "code",
   "execution_count": 10,
   "metadata": {},
   "outputs": [
    {
     "data": {
      "text/plain": [
       "{'</s>': 0, 'in': 1, 'for': 2, 'that': 3, 'is': 4}"
      ]
     },
     "execution_count": 10,
     "metadata": {},
     "output_type": "execute_result"
    }
   ],
   "source": [
    "#construct word rank dictionary\n",
    "dict_tmp = dict(enumerate(words))\n",
    "word_rank = dict(zip(dict_tmp.values(), dict_tmp.keys()))\n",
    "\n",
    "#show start of the resulting dictionary\n",
    "dict(list(word_rank.items())[:5])"
   ]
  },
  {
   "cell_type": "markdown",
   "metadata": {},
   "source": [
    "Following steps are simple modification of Peter Norvig's code. Instead of computing the frequency of each word we use the word ranks stored in word_rank dictionary."
   ]
  },
  {
   "cell_type": "code",
   "execution_count": 11,
   "metadata": {},
   "outputs": [],
   "source": [
    "# Source: https://www.kaggle.com/cpmpml/spell-checker-using-word2vec/notebook\n",
    "# with necessary  changes\n",
    "\n",
    "def words(text): return re.findall(r'\\w+', text.lower())\n",
    "\n",
    "def P(word): \n",
    "    \"Probability of `word`.\"\n",
    "    # use inverse of rank as proxy\n",
    "    # returns 0 if the word isn't in the dictionary\n",
    "    return - word_rank.get(word, 0)\n",
    "\n",
    "def correction(word): \n",
    "    \"Most probable spelling correction for word.\"\n",
    "    return max(candidates(word), key=P)\n",
    "\n",
    "def candidates(word): \n",
    "    \"Generate possible spelling corrections for word.\"\n",
    "    word = re.sub('[^a-zA-Z0-9]','0',word) \n",
    "    return (known([word]) or known(edits1(word)) or known(edits2(word)) or [word])\n",
    "\n",
    "def known(words): \n",
    "    \"The subset of `words` that appear in the dictionary word_rank.\"\n",
    "    return set(w for w in words if w in word_rank)\n",
    "\n",
    "def edits1(word):\n",
    "    \"All edits that are one edit away from `word`.\"\n",
    "    letters    = 'abcdefghijklmnopqrstuvwxyz'\n",
    "    splits     = [(word[:i], word[i:])    for i in range(len(word) + 1)]\n",
    "    deletes    = [L + R[1:]               for L, R in splits if R]\n",
    "    transposes = [L + R[1] + R[0] + R[2:] for L, R in splits if len(R)>1]\n",
    "    replaces   = [L + c + R[1:]           for L, R in splits if R for c in letters]\n",
    "    inserts    = [L + c + R               for L, R in splits for c in letters]\n",
    "    return set(deletes + transposes + replaces + inserts)\n",
    "\n",
    "def edits2(word): \n",
    "    \"All edits that are two edits away from `word`.\"\n",
    "    return (e2 for e1 in edits1(word) for e2 in edits1(e1))"
   ]
  },
  {
   "cell_type": "code",
   "execution_count": 12,
   "metadata": {},
   "outputs": [
    {
     "name": "stdout",
     "output_type": "stream",
     "text": [
      "\"Cle3n\" is transformed to \" Clean \"\n",
      "\"qalty\" is transformed to \" quality \"\n",
      "\n",
      "NOTE: missing spaces are not corrected and might generate errors of spell correction:\n",
      "\"thetable\" is transformed to \" timetable \"\n",
      "\n",
      "NOTE: empty strings generate a single letter word surraunded by spaces:\n",
      "\"\" is transformed to \" s \"\n",
      "IT WILL BE USED TO MARKE END OF A SENTENCE\n"
     ]
    }
   ],
   "source": [
    "#spell check examples\n",
    "print('\"Cle3n\" is transformed to \"',correction('Cle3n'), '\"')\n",
    "print('\"qalty\" is transformed to \"',correction('quality'), '\"')\n",
    "\n",
    "print('\\nNOTE: missing spaces are not corrected and might generate errors of spell correction:')\n",
    "print('\"thetable\" is transformed to \"',correction('thetable'), '\"')\n",
    "\n",
    "print('\\nNOTE: empty strings generate a single letter word surraunded by spaces:')\n",
    "print('\"\" is transformed to \"',correction(''), '\"')\n",
    "print('IT WILL BE USED TO MARKE END OF A SENTENCE')"
   ]
  },
  {
   "cell_type": "markdown",
   "metadata": {},
   "source": [
    "Erroneous words that might appear in the reviews' texts after spell checking will be deleted during text preprocessing. Since most likely they will have low count of appearances in the reviews (it is unlikely that > 500 people will make the same mistake over and over).\n",
    "\n",
    "Low count words will be deleted to reduce dimensionality of the dictionary of words that is used in the topic modeling."
   ]
  },
  {
   "cell_type": "code",
   "execution_count": 13,
   "metadata": {},
   "outputs": [
    {
     "name": "stdout",
     "output_type": "stream",
     "text": [
      "Familia trip.\n",
      "I like this hotel a lot. The location, the food, room service and all the personal is great!  IÕve stayed in a suite with a city view. And also in a standard room with the river view which is beautiful!Even though now they are remodeling the hotel, we had a pleasant stay. They made us feel at home. I canÕt wait to see it finished!\n",
      "\n",
      "Transformed to:\n",
      "\n",
      "['Familia', 'trip', '', '', 'I', 'like', 'this', 'hotel', 'a', 'lot', '', 'The', 'location', 'the', 'food', 'room', 'service', 'and', 'all', 'the', 'personal', 'is', 'great', '', 'IÕve', 'stayed', 'in', 'a', 'suite', 'with', 'a', 'city', 'view', '', 'And', 'also', 'in', 'a', 'standard', 'room', 'with', 'the', 'river', 'view', 'which', 'is', 'beautiful', 'Even', 'though', 'now', 'they', 'are', 'remodeling', 'the', 'hotel', 'we', 'had', 'a', 'pleasant', 'stay', '', 'They', 'made', 'us', 'feel', 'at', 'home', '', 'I', 'canÕt', 'wait', 'to', 'see', 'it', 'finished', '']\n"
     ]
    }
   ],
   "source": [
    "# split review text on words\n",
    "df_data['words'] = df_data['text'].str.replace(',',\n",
    "                                               ' ').str.replace('[\\t\\n\\r\\f\\v]',\n",
    "                                                                '. ').str.replace(' +',\n",
    "                                                                                  ' ').str.split('\\W')\n",
    "\n",
    "#check\n",
    "print(df_data['text'].iloc[0])\n",
    "print('\\nTransformed to:\\n')\n",
    "print(df_data['words'].iloc[0])"
   ]
  },
  {
   "cell_type": "code",
   "execution_count": 14,
   "metadata": {},
   "outputs": [],
   "source": [
    "# since spell checking goes through each word in each review, full data check will take a lot of time\n",
    "# we need to use parallel processing\n",
    "\n",
    "def parallelize_dataframe(df, func, n_cores=4):\n",
    "    \"\"\"\n",
    "    The function breaks the data frame (df) into n_cores parts, \n",
    "    and spawns n_cores processes which apply the function to all the pieces.\n",
    "    \n",
    "    Once the function (func) is applied to all the split data frames, \n",
    "    the split data frames are concatenated in the resulting data frame\n",
    "    which is returned as an output.\n",
    "    \n",
    "    input:\n",
    "         df - as pandas data frame\n",
    "         func - function to be applied on the df\n",
    "         n_cores - as integer, number of splits for data frame\n",
    "    output\n",
    "         df after application of the specified function\n",
    "    \"\"\"\n",
    "    df_split = np.array_split(df, n_cores)\n",
    "    pool = Pool(n_cores)\n",
    "    df = pd.concat(pool.map(func, df_split))\n",
    "    pool.close()\n",
    "    pool.join()\n",
    "    return df\n",
    "\n",
    "\n",
    "def spell_check(df):\n",
    "    \"\"\" \n",
    "    spell check each word in the column \"words\" that represents list of tolkens from reviews\n",
    "    and concatinate corrected words in a single text for each review \n",
    "    \"\"\"\n",
    "    df['spell_checked_text'] = df['words'].apply(lambda x: ' '.join([correction(word) if len(word)!=1 \n",
    "                                                                     else  word for word in x])) \n",
    "    return df"
   ]
  },
  {
   "cell_type": "code",
   "execution_count": 15,
   "metadata": {},
   "outputs": [
    {
     "name": "stdout",
     "output_type": "stream",
     "text": [
      "CPU times: user 16.2 s, sys: 8.55 s, total: 24.7 s\n",
      "Wall time: 11min 46s\n"
     ]
    }
   ],
   "source": [
    "# CHECK HOW MANY n_cores YOU CAN USE\n",
    "# OPERATIONAL MEMORY CONSTRAIN: you need at least 20G of free RAM to run this step using all data (or do in chunks)\n",
    "# run spell check in parallel to speed-up calculations (less than 15 minutes on my machine with parallelization)\n",
    "%time df_data = parallelize_dataframe(df_data, spell_check, n_cores=15)"
   ]
  },
  {
   "cell_type": "code",
   "execution_count": 16,
   "metadata": {},
   "outputs": [],
   "source": [
    "# replace \" s \" with \".\" to mark end of a sentence\n",
    "df_data['spell_checked_text'] = df_data['spell_checked_text'].str.replace(' s ', '. ')\n",
    "df_data['spell_checked_text'] = df_data['spell_checked_text'].str[:-2] + '.'"
   ]
  },
  {
   "cell_type": "code",
   "execution_count": 17,
   "metadata": {},
   "outputs": [
    {
     "name": "stdout",
     "output_type": "stream",
     "text": [
      "Familia trip.\n",
      "I like this hotel a lot. The location, the food, room service and all the personal is great!  IÕve stayed in a suite with a city view. And also in a standard room with the river view which is beautiful!Even though now they are remodeling the hotel, we had a pleasant stay. They made us feel at home. I canÕt wait to see it finished!\n",
      "\n",
      "Transformed to:\n",
      "\n",
      "Familia trip. s I like this hotel a lot. The location the food room service an all the personal is great. Ive stayed in a suite with a city view. And also in a standard room with the river view which is beautiful Even though now they are remodeling the hotel we had a pleasant stay. They made us feel at home. I cant wait two see it finished.\n"
     ]
    }
   ],
   "source": [
    "#check\n",
    "print(df_data['text'].iloc[0])\n",
    "print('\\nTransformed to:\\n')\n",
    "print(df_data['spell_checked_text'].iloc[0])"
   ]
  },
  {
   "cell_type": "markdown",
   "metadata": {},
   "source": [
    "# Text tokenization and lemmatization"
   ]
  },
  {
   "cell_type": "markdown",
   "metadata": {},
   "source": [
    "##### create spacy \"nlp\" object (takes time - 20 minutes on my machine)\n",
    "it does several steps at once:\n",
    "- tokenization\n",
    "- POS tagging\n",
    "- lemmatization instead of stemming (since we will be analyzing words in each topic it is important to preserve their language form)\n",
    "\n",
    "\n",
    "You can find Spacy documentation for these steps here: https://spacy.io/api/annotation"
   ]
  },
  {
   "cell_type": "code",
   "execution_count": 18,
   "metadata": {},
   "outputs": [
    {
     "name": "stdout",
     "output_type": "stream",
     "text": [
      "CPU times: user 14min 40s, sys: 6.02 s, total: 14min 46s\n",
      "Wall time: 14min 47s\n"
     ]
    }
   ],
   "source": [
    "# this step takes time (approximately 15 min on my machine)\n",
    "%time df_data['doc'] = df_data['spell_checked_text'].apply(lambda x: nlp(x))"
   ]
  },
  {
   "cell_type": "code",
   "execution_count": 19,
   "metadata": {},
   "outputs": [],
   "source": [
    "# delete stop words, select POSs that are letters and correspond to words with at least 3 characters \n",
    "df_data['list_of_POSs'] = df_data['doc'].apply(lambda x: [word.pos_\n",
    "                                    for word in x if (word.is_stop==False) & \\\n",
    "                                                          (len(word.text)>2) & \\\n",
    "                                                          (word.is_alpha) \n",
    "                                                         ])"
   ]
  },
  {
   "cell_type": "markdown",
   "metadata": {},
   "source": [
    "POS is more about the context of the features than frequencies of features"
   ]
  },
  {
   "cell_type": "code",
   "execution_count": 20,
   "metadata": {},
   "outputs": [
    {
     "name": "stdout",
     "output_type": "stream",
     "text": [
      "Total number of POSs:  17\n",
      "POS = ADP means conjunction, subordinating or preposition\n",
      "POS = INTJ means interjection\n",
      "\n",
      "Other interpretations can be found here: https://spacy.io/api/annotation#pos-tagging\n",
      "In \"Universal Part-of-speech Tags\" or \"English\" sections\n"
     ]
    },
    {
     "data": {
      "text/plain": [
       "<matplotlib.axes._subplots.AxesSubplot at 0x7fc57a249710>"
      ]
     },
     "execution_count": 20,
     "metadata": {},
     "output_type": "execute_result"
    },
    {
     "data": {
      "image/png": "[encoded data removed]",
      "text/plain": [
       "<Figure size 432x288 with 1 Axes>"
      ]
     },
     "metadata": {
      "needs_background": "light"
     },
     "output_type": "display_data"
    }
   ],
   "source": [
    "# get all POSs in each review in a list\n",
    "tmp_list = df_data['list_of_POSs'].tolist()\n",
    "list_of_POSs = [POS for sublist in tmp_list for POS in sublist]\n",
    "\n",
    "#count POSs' total frequencies in the corpus\n",
    "POS_freq_counter = collections.Counter(list_of_POSs)\n",
    "s_POS_freq = pd.Series(POS_freq_counter)\n",
    "\n",
    "#sort POSs document frequencies in the corpus \n",
    "s_tmp = s_POS_freq.sort_values(ascending=False)\n",
    "\n",
    "print('Total number of POSs: ', len(set(s_POS_freq)))\n",
    "print('POS = ADP means conjunction, subordinating or preposition')\n",
    "print('POS = INTJ means interjection')\n",
    "print('\\nOther interpretations can be found here: https://spacy.io/api/annotation#pos-tagging')\n",
    "print('In \"Universal Part-of-speech Tags\" or \"English\" sections')\n",
    "df_tmp = pd.DataFrame(s_tmp, columns=['Frequency'])\n",
    "\n",
    "#plot df_tmp\n",
    "df_tmp.plot.bar(alpha=0.5, color='c', legend=False, title='POS frequency in all texts combined')"
   ]
  },
  {
   "cell_type": "markdown",
   "metadata": {},
   "source": [
    "##### I recommend selecting only lemmas that have most meaning: nouns, verbs, adjectives and adverbs"
   ]
  },
  {
   "cell_type": "code",
   "execution_count": 21,
   "metadata": {},
   "outputs": [
    {
     "name": "stdout",
     "output_type": "stream",
     "text": [
      "selecting POSs:\n"
     ]
    },
    {
     "data": {
      "text/plain": [
       "['NOUN', 'VERB', 'ADJ', 'ADV']"
      ]
     },
     "execution_count": 21,
     "metadata": {},
     "output_type": "execute_result"
    }
   ],
   "source": [
    "#selecting POSs\n",
    "selected_POSs = ['NOUN', 'VERB', 'ADJ', 'ADV']\n",
    "\n",
    "print('selecting POSs:')\n",
    "selected_POSs "
   ]
  },
  {
   "cell_type": "code",
   "execution_count": 22,
   "metadata": {},
   "outputs": [],
   "source": [
    "# lemmatize words with selected POSs, \n",
    "# select lemmas that are not stop-words and have at least 3 characters\n",
    "df_data['list_of_lemmas'] = df_data['doc'].apply(lambda x: [word.lemma_\n",
    "                                                                for word in x if (word.is_stop==False) & \\\n",
    "                                                                                 (len(word.text)>2) & \\\n",
    "                                                                                 (word.is_alpha) & \\\n",
    "                                                                                 (word.pos_ in selected_POSs)])"
   ]
  },
  {
   "cell_type": "code",
   "execution_count": 23,
   "metadata": {},
   "outputs": [
    {
     "name": "stdout",
     "output_type": "stream",
     "text": [
      "Familia trip.\n",
      "I like this hotel a lot. The location, the food, room service and all the personal is great!  IÕve stayed in a suite with a city view. And also in a standard room with the river view which is beautiful!Even though now they are remodeling the hotel, we had a pleasant stay. They made us feel at home. I canÕt wait to see it finished!\n",
      "\n",
      "#Selected lemmas:\n",
      "\n",
      "['trip', 'like', 'hotel', 'lot', 'location', 'food', 'room', 'service', 'personal', 'great', 'stay', 'suite', 'city', 'view', 'standard', 'room', 'river', 'view', 'beautiful', 'remodel', 'hotel', 'pleasant', 'stay', 'feel', 'home', 'wait', 'finish']\n"
     ]
    }
   ],
   "source": [
    "# example of a review\n",
    "ind = 0\n",
    "\n",
    "print(df_data['text'].iloc[ind])\n",
    "print('\\n#Selected lemmas:\\n')\n",
    "print(df_data['list_of_lemmas'].iloc[ind])"
   ]
  },
  {
   "cell_type": "markdown",
   "metadata": {},
   "source": [
    "##### Checking dictionary dimension  (number of unique lemmas) that will be in the model\n",
    "bigger count longer model processing time without accuracy guarantee"
   ]
  },
  {
   "cell_type": "code",
   "execution_count": 24,
   "metadata": {},
   "outputs": [
    {
     "name": "stdout",
     "output_type": "stream",
     "text": [
      "Total number of unique lemmas:  32069\n",
      "\n",
      "Distribution of lemmas' document counts: \n",
      "count     32069.000000\n",
      "mean        250.199538\n",
      "std        2598.039119\n",
      "min           1.000000\n",
      "50%           3.000000\n",
      "55%           4.000000\n",
      "65%           7.000000\n",
      "75%          17.000000\n",
      "85%          55.000000\n",
      "95%         510.000000\n",
      "97%        1188.960000\n",
      "99%        4905.000000\n",
      "max      155892.000000\n",
      "dtype: float64\n"
     ]
    }
   ],
   "source": [
    "# get all unique lemmas from each review in a list\n",
    "tmp_list = df_data['list_of_lemmas'].apply(set).apply(list).tolist()\n",
    "list_of_lemmas = [lemma for sublist in tmp_list for lemma in sublist]\n",
    "\n",
    "# count lemmas' document frequencies in the corpus\n",
    "lemma_freq_counter = collections.Counter(list_of_lemmas)\n",
    "s_lemma_freq = pd.Series(lemma_freq_counter)\n",
    "\n",
    "print('Total number of unique lemmas: ', len(s_lemma_freq))\n",
    "print (\"\\nDistribution of lemmas' document counts: \")\n",
    "print(s_lemma_freq.describe(percentiles=[0.55, 0.65, 0.75, 0.85, 0.95, 0.97, 0.99]))"
   ]
  },
  {
   "cell_type": "code",
   "execution_count": 25,
   "metadata": {},
   "outputs": [
    {
     "data": {
      "text/html": [
       "<div>\n",
       "<style scoped>\n",
       "    .dataframe tbody tr th:only-of-type {\n",
       "        vertical-align: middle;\n",
       "    }\n",
       "\n",
       "    .dataframe tbody tr th {\n",
       "        vertical-align: top;\n",
       "    }\n",
       "\n",
       "    .dataframe thead th {\n",
       "        text-align: right;\n",
       "    }\n",
       "</style>\n",
       "<table border=\"1\" class=\"dataframe\">\n",
       "  <thead>\n",
       "    <tr style=\"text-align: right;\">\n",
       "      <th></th>\n",
       "      <th>Most freq words</th>\n",
       "      <th>M_freq</th>\n",
       "      <th>Least freq words</th>\n",
       "      <th>L_freq</th>\n",
       "    </tr>\n",
       "  </thead>\n",
       "  <tbody>\n",
       "    <tr>\n",
       "      <th>0</th>\n",
       "      <td>hotel</td>\n",
       "      <td>155892</td>\n",
       "      <td>surpriseused</td>\n",
       "      <td>1</td>\n",
       "    </tr>\n",
       "    <tr>\n",
       "      <th>1</th>\n",
       "      <td>room</td>\n",
       "      <td>155423</td>\n",
       "      <td>technophobe</td>\n",
       "      <td>1</td>\n",
       "    </tr>\n",
       "    <tr>\n",
       "      <th>2</th>\n",
       "      <td>stay</td>\n",
       "      <td>151267</td>\n",
       "      <td>billiards</td>\n",
       "      <td>1</td>\n",
       "    </tr>\n",
       "    <tr>\n",
       "      <th>3</th>\n",
       "      <td>staff</td>\n",
       "      <td>115312</td>\n",
       "      <td>taekwondo</td>\n",
       "      <td>1</td>\n",
       "    </tr>\n",
       "    <tr>\n",
       "      <th>4</th>\n",
       "      <td>great</td>\n",
       "      <td>111500</td>\n",
       "      <td>painstaff</td>\n",
       "      <td>1</td>\n",
       "    </tr>\n",
       "    <tr>\n",
       "      <th>5</th>\n",
       "      <td>good</td>\n",
       "      <td>85267</td>\n",
       "      <td>cubit</td>\n",
       "      <td>1</td>\n",
       "    </tr>\n",
       "    <tr>\n",
       "      <th>6</th>\n",
       "      <td>clean</td>\n",
       "      <td>83720</td>\n",
       "      <td>providedstaye</td>\n",
       "      <td>1</td>\n",
       "    </tr>\n",
       "    <tr>\n",
       "      <th>7</th>\n",
       "      <td>nice</td>\n",
       "      <td>77861</td>\n",
       "      <td>precipitate</td>\n",
       "      <td>1</td>\n",
       "    </tr>\n",
       "    <tr>\n",
       "      <th>8</th>\n",
       "      <td>breakfast</td>\n",
       "      <td>71441</td>\n",
       "      <td>delineation</td>\n",
       "      <td>1</td>\n",
       "    </tr>\n",
       "    <tr>\n",
       "      <th>9</th>\n",
       "      <td>location</td>\n",
       "      <td>66725</td>\n",
       "      <td>dustry</td>\n",
       "      <td>1</td>\n",
       "    </tr>\n",
       "    <tr>\n",
       "      <th>10</th>\n",
       "      <td>service</td>\n",
       "      <td>63820</td>\n",
       "      <td>alledgedly</td>\n",
       "      <td>1</td>\n",
       "    </tr>\n",
       "    <tr>\n",
       "      <th>11</th>\n",
       "      <td>friendly</td>\n",
       "      <td>63308</td>\n",
       "      <td>cityslight</td>\n",
       "      <td>1</td>\n",
       "    </tr>\n",
       "    <tr>\n",
       "      <th>12</th>\n",
       "      <td>night</td>\n",
       "      <td>52545</td>\n",
       "      <td>stap</td>\n",
       "      <td>1</td>\n",
       "    </tr>\n",
       "    <tr>\n",
       "      <th>13</th>\n",
       "      <td>time</td>\n",
       "      <td>51175</td>\n",
       "      <td>botheration</td>\n",
       "      <td>1</td>\n",
       "    </tr>\n",
       "    <tr>\n",
       "      <th>14</th>\n",
       "      <td>comfortable</td>\n",
       "      <td>49280</td>\n",
       "      <td>byConsToo</td>\n",
       "      <td>1</td>\n",
       "    </tr>\n",
       "    <tr>\n",
       "      <th>15</th>\n",
       "      <td>restaurant</td>\n",
       "      <td>46752</td>\n",
       "      <td>gymgreat</td>\n",
       "      <td>1</td>\n",
       "    </tr>\n",
       "    <tr>\n",
       "      <th>16</th>\n",
       "      <td>place</td>\n",
       "      <td>46574</td>\n",
       "      <td>theyblnwere</td>\n",
       "      <td>1</td>\n",
       "    </tr>\n",
       "    <tr>\n",
       "      <th>17</th>\n",
       "      <td>bed</td>\n",
       "      <td>45643</td>\n",
       "      <td>wellbore</td>\n",
       "      <td>1</td>\n",
       "    </tr>\n",
       "    <tr>\n",
       "      <th>18</th>\n",
       "      <td>area</td>\n",
       "      <td>45538</td>\n",
       "      <td>eliminator</td>\n",
       "      <td>1</td>\n",
       "    </tr>\n",
       "    <tr>\n",
       "      <th>19</th>\n",
       "      <td>helpful</td>\n",
       "      <td>41928</td>\n",
       "      <td>pants</td>\n",
       "      <td>1</td>\n",
       "    </tr>\n",
       "  </tbody>\n",
       "</table>\n",
       "</div>"
      ],
      "text/plain": [
       "   Most freq words  M_freq Least freq words  L_freq\n",
       "0            hotel  155892     surpriseused       1\n",
       "1             room  155423      technophobe       1\n",
       "2             stay  151267        billiards       1\n",
       "3            staff  115312        taekwondo       1\n",
       "4            great  111500        painstaff       1\n",
       "5             good   85267            cubit       1\n",
       "6            clean   83720    providedstaye       1\n",
       "7             nice   77861      precipitate       1\n",
       "8        breakfast   71441      delineation       1\n",
       "9         location   66725           dustry       1\n",
       "10         service   63820       alledgedly       1\n",
       "11        friendly   63308       cityslight       1\n",
       "12           night   52545             stap       1\n",
       "13            time   51175      botheration       1\n",
       "14     comfortable   49280        byConsToo       1\n",
       "15      restaurant   46752         gymgreat       1\n",
       "16           place   46574      theyblnwere       1\n",
       "17             bed   45643         wellbore       1\n",
       "18            area   45538       eliminator       1\n",
       "19         helpful   41928            pants       1"
      ]
     },
     "execution_count": 25,
     "metadata": {},
     "output_type": "execute_result"
    }
   ],
   "source": [
    "# look through to 20 most/least frequent lemmas \n",
    "s_tmp = s_lemma_freq.sort_values(ascending=False)\n",
    "df_tmp = pd.DataFrame({'Most freq words': list(s_tmp.index[:20]),\n",
    "                       'M_freq': list(s_tmp.iloc[:20]),\n",
    "                       'Least freq words': list(s_tmp.index[-20:]),\n",
    "                       'L_freq': list(s_tmp.iloc[-20:])})\n",
    "df_tmp"
   ]
  },
  {
   "cell_type": "markdown",
   "metadata": {},
   "source": [
    "To reduce dimentionality of dictionary for topic modeling \n",
    "lemmas that have frequency count lower than 50th percentile and higer 99.9 percentile were deleted"
   ]
  },
  {
   "cell_type": "code",
   "execution_count": 26,
   "metadata": {},
   "outputs": [
    {
     "name": "stdout",
     "output_type": "stream",
     "text": [
      "Lemma count upper bound: 4905.0\n",
      "Lemma count lower bound: 3.0\n"
     ]
    }
   ],
   "source": [
    "# select upper and lower boundary for lemmas' count \n",
    "up_pct = s_lemma_freq.quantile(0.99)\n",
    "low_pct = s_lemma_freq.quantile(0.50)\n",
    "\n",
    "print('Lemma count upper bound:', up_pct)\n",
    "print('Lemma count lower bound:', low_pct)"
   ]
  },
  {
   "cell_type": "code",
   "execution_count": 29,
   "metadata": {},
   "outputs": [
    {
     "name": "stdout",
     "output_type": "stream",
     "text": [
      "List of lemmas for topic modeling dictionary is reduced from 32069 to 16466\n",
      "\n",
      "Example of selected lemmas:\n"
     ]
    },
    {
     "data": {
      "text/plain": [
       "['merienda', 'abate', 'fleshing', 'overcooked', 'modification']"
      ]
     },
     "execution_count": 29,
     "metadata": {},
     "output_type": "execute_result"
    }
   ],
   "source": [
    "# select lemmas \n",
    "selected_lemmas = set(s_lemma_freq[(s_lemma_freq >= low_pct)&(s_lemma_freq <= up_pct)].index)\n",
    "print('List of lemmas for topic modeling dictionary is reduced from', len(s_lemma_freq), 'to', len(selected_lemmas))\n",
    "\n",
    "print(\"\\nExample of selected lemmas:\")\n",
    "list(selected_lemmas)[:5]"
   ]
  },
  {
   "cell_type": "code",
   "execution_count": 30,
   "metadata": {},
   "outputs": [],
   "source": [
    "# select lemmas in each document if they belong to chosen list of lemmas\n",
    "df_data['selected_list_of_lemmas'] = df_data['list_of_lemmas'].apply(lambda x: \n",
    "                                                                     [l for l in x if l in selected_lemmas])"
   ]
  },
  {
   "cell_type": "code",
   "execution_count": 31,
   "metadata": {},
   "outputs": [],
   "source": [
    "# select only necesary columns to transfer to the next step\n",
    "columns = ['Hotel_ID', 'average_rating', 'hotel_star',\n",
    "          'individual_ratings', 'review_content','review_time', 'review_title',\n",
    "          'quarter', 'day_of_week', 'year', 'month', 'year-month', 'year-quarter',\n",
    "          'py_review_date', 'selected_list_of_lemmas'\n",
    "         ]"
   ]
  },
  {
   "cell_type": "markdown",
   "metadata": {},
   "source": [
    "# Summary of text preprocessing "
   ]
  },
  {
   "cell_type": "markdown",
   "metadata": {},
   "source": [
    "Steps performed:\n",
    "- spell correction\n",
    "- tokenization\n",
    "- POS tagging\n",
    "- lemmatization\n",
    "- deletion of commonly known STOP-WORDS\n",
    "- selected only reviews with 1,2 and 4,5 ratings\n",
    "- selected only most informative lemmas (nouns, verbs, adjective and adverbs)\n",
    "\n",
    "\n",
    "Notably, words \"nice\", \"clean\", \"good\" and \"great\" are among in-sample STOP-WORDS (lemmas that appear to often or too infrequently).\n",
    "\n",
    "It might be the case that people don't like to make completely negative review and still want to say something nice even if the overall rating is bad.\n",
    "\n",
    "We might need to delete in-sample STOP-WORDS if they interfere with topic modeling.\n"
   ]
  },
  {
   "cell_type": "markdown",
   "metadata": {},
   "source": [
    "### Transfer data frame between Jupiter notebooks\n",
    "Next step \"Topic modeling\" is coded in separate Jupiter notebook. So that\n",
    "- it is easier to locate program for a particular task\n",
    "- Jupiter notebook is not very long and easier to read\n",
    "\n",
    "Use pickle.load() to save pandas data frame with processed text data preserving object structure to be used in other programs"
   ]
  },
  {
   "cell_type": "code",
   "execution_count": 32,
   "metadata": {},
   "outputs": [],
   "source": [
    "with open(output_folder + 'for_topic_modeling.pickle', 'wb') as f:\n",
    "    # Pickle the 'data' dictionary using the highest protocol available.\n",
    "    pickle.dump(df_data[columns], f, pickle.HIGHEST_PROTOCOL)"
   ]
  }
 ],
 "metadata": {
  "kernelspec": {
   "display_name": "Python 3",
   "language": "python",
   "name": "python3"
  },
  "language_info": {
   "codemirror_mode": {
    "name": "ipython",
    "version": 3
   },
   "file_extension": ".py",
   "mimetype": "text/x-python",
   "name": "python",
   "nbconvert_exporter": "python",
   "pygments_lexer": "ipython3",
   "version": "3.7.4"
  },
  "toc": {
   "base_numbering": 1,
   "nav_menu": {},
   "number_sections": true,
   "sideBar": true,
   "skip_h1_title": false,
   "title_cell": "Table of Contents",
   "title_sidebar": "Contents",
   "toc_cell": false,
   "toc_position": {},
   "toc_section_display": true,
   "toc_window_display": true
  }
 },
 "nbformat": 4,
 "nbformat_minor": 2
}
