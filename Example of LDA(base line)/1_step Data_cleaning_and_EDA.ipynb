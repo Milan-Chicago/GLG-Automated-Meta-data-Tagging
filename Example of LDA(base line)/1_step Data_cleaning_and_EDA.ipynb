{
 "cells": [
  {
   "cell_type": "markdown",
   "metadata": {},
   "source": [
    "# Load data and python libraries"
   ]
  },
  {
   "cell_type": "code",
   "execution_count": 1,
   "metadata": {},
   "outputs": [],
   "source": [
    "# make plot s appear after the code cell\n",
    "%matplotlib inline \n",
    "\n",
    "# data processing libraries\n",
    "import pandas as pd\n",
    "import numpy as np\n",
    "import collections\n",
    "\n",
    "# display wider columns in pandas data frames where necessary\n",
    "pd.set_option('max_colwidth',150)\n",
    "\n",
    "# data visualization libraries\n",
    "import matplotlib.pyplot as plt\n",
    "import seaborn as sns\n",
    "\n",
    "# supporting libraries\n",
    "import re\n",
    "import math\n",
    "import numpy as np\n",
    "import pickle"
   ]
  },
  {
   "cell_type": "code",
   "execution_count": 2,
   "metadata": {},
   "outputs": [],
   "source": [
    "# file location of the data\n",
    "input_folder = './data/'\n",
    "output_folder = './transition_files/'\n",
    "\n",
    "file_name = 'hotel420_all_reviewnresponse (5).txt' # original .xlsx file was saved as tab delimeted .txt"
   ]
  },
  {
   "cell_type": "code",
   "execution_count": 3,
   "metadata": {},
   "outputs": [
    {
     "name": "stderr",
     "output_type": "stream",
     "text": [
      "/Users/tatiana/opt/anaconda3/lib/python3.7/site-packages/IPython/core/interactiveshell.py:3058: DtypeWarning: Columns (13) have mixed types. Specify dtype option on import or set low_memory=False.\n",
      "  interactivity=interactivity, compiler=compiler, result=result)\n"
     ]
    },
    {
     "data": {
      "text/html": [
       "<div>\n",
       "<style scoped>\n",
       "    .dataframe tbody tr th:only-of-type {\n",
       "        vertical-align: middle;\n",
       "    }\n",
       "\n",
       "    .dataframe tbody tr th {\n",
       "        vertical-align: top;\n",
       "    }\n",
       "\n",
       "    .dataframe thead th {\n",
       "        text-align: right;\n",
       "    }\n",
       "</style>\n",
       "<table border=\"1\" class=\"dataframe\">\n",
       "  <thead>\n",
       "    <tr style=\"text-align: right;\">\n",
       "      <th></th>\n",
       "      <th>0</th>\n",
       "    </tr>\n",
       "  </thead>\n",
       "  <tbody>\n",
       "    <tr>\n",
       "      <th>Hotel_ID</th>\n",
       "      <td>1</td>\n",
       "    </tr>\n",
       "    <tr>\n",
       "      <th>Hotel_originalname</th>\n",
       "      <td>ÊÊAustin-RÊRoÊAUSTIN\\nFOUR SEASONS HOTEL AUST</td>\n",
       "    </tr>\n",
       "    <tr>\n",
       "      <th>address</th>\n",
       "      <td>98 San Jacinto Blvd, Austin, TX 78701-4082</td>\n",
       "    </tr>\n",
       "    <tr>\n",
       "      <th>price_range</th>\n",
       "      <td>CN´3,223 - CN´10,600</td>\n",
       "    </tr>\n",
       "    <tr>\n",
       "      <th>average_rating</th>\n",
       "      <td>4.5</td>\n",
       "    </tr>\n",
       "    <tr>\n",
       "      <th>number_of_reviews_hotel</th>\n",
       "      <td>2,005</td>\n",
       "    </tr>\n",
       "    <tr>\n",
       "      <th>hotel_star</th>\n",
       "      <td>5</td>\n",
       "    </tr>\n",
       "    <tr>\n",
       "      <th>Hotel_Name_tripadvisor</th>\n",
       "      <td>Four Seasons Hotel Austin</td>\n",
       "    </tr>\n",
       "    <tr>\n",
       "      <th>helpfulness_vote</th>\n",
       "      <td>0</td>\n",
       "    </tr>\n",
       "    <tr>\n",
       "      <th>mgtresponse_content</th>\n",
       "      <td>Dear marver99,Thank you for choosing to stay at Four Seasons Hotel Austin and for taking the time to provide feedback on your visit. I appreciate ...</td>\n",
       "    </tr>\n",
       "    <tr>\n",
       "      <th>mgtresponse_time</th>\n",
       "      <td>1 week ago</td>\n",
       "    </tr>\n",
       "    <tr>\n",
       "      <th>individual_ratings</th>\n",
       "      <td>5</td>\n",
       "    </tr>\n",
       "    <tr>\n",
       "      <th>review_content</th>\n",
       "      <td>I like this hotel a lot. The location, the food, room service and all the personal is great!  IÕve stayed in a suite with a city view. And also in...</td>\n",
       "    </tr>\n",
       "    <tr>\n",
       "      <th>reviewer_contribution</th>\n",
       "      <td>22</td>\n",
       "    </tr>\n",
       "    <tr>\n",
       "      <th>review_time</th>\n",
       "      <td>Reviewed 1 week ago</td>\n",
       "    </tr>\n",
       "    <tr>\n",
       "      <th>review_title</th>\n",
       "      <td>Familia trip</td>\n",
       "    </tr>\n",
       "    <tr>\n",
       "      <th>reviewer_id</th>\n",
       "      <td>marver99</td>\n",
       "    </tr>\n",
       "    <tr>\n",
       "      <th>mgtresponse_who</th>\n",
       "      <td>fsaustin, General Manager at Four Seasons Hotel Austin, responded to this review</td>\n",
       "    </tr>\n",
       "  </tbody>\n",
       "</table>\n",
       "</div>"
      ],
      "text/plain": [
       "                                                                                                                                                                             0\n",
       "Hotel_ID                                                                                                                                                                     1\n",
       "Hotel_originalname                                                                                                               ÊÊAustin-RÊRoÊAUSTIN\\nFOUR SEASONS HOTEL AUST\n",
       "address                                                                                                                             98 San Jacinto Blvd, Austin, TX 78701-4082\n",
       "price_range                                                                                                                                               CN´3,223 - CN´10,600\n",
       "average_rating                                                                                                                                                             4.5\n",
       "number_of_reviews_hotel                                                                                                                                                  2,005\n",
       "hotel_star                                                                                                                                                                   5\n",
       "Hotel_Name_tripadvisor                                                                                                                               Four Seasons Hotel Austin\n",
       "helpfulness_vote                                                                                                                                                             0\n",
       "mgtresponse_content      Dear marver99,Thank you for choosing to stay at Four Seasons Hotel Austin and for taking the time to provide feedback on your visit. I appreciate ...\n",
       "mgtresponse_time                                                                                                                                                    1 week ago\n",
       "individual_ratings                                                                                                                                                           5\n",
       "review_content           I like this hotel a lot. The location, the food, room service and all the personal is great!  IÕve stayed in a suite with a city view. And also in...\n",
       "reviewer_contribution                                                                                                                                                       22\n",
       "review_time                                                                                                                                               Reviewed 1 week ago \n",
       "review_title                                                                                                                                                      Familia trip\n",
       "reviewer_id                                                                                                                                                           marver99\n",
       "mgtresponse_who                                                                               fsaustin, General Manager at Four Seasons Hotel Austin, responded to this review"
      ]
     },
     "execution_count": 3,
     "metadata": {},
     "output_type": "execute_result"
    }
   ],
   "source": [
    "# load data\n",
    "df_data = pd.read_csv(input_folder + file_name, #file location\n",
    "                      encoding = \"ISO-8859-1\", #deal with texts in different formats\n",
    "                      sep='\\t' #column delimiter\n",
    "                     )\n",
    "\n",
    "# display first row of the data frame\n",
    "df_data.head(1).T"
   ]
  },
  {
   "cell_type": "markdown",
   "metadata": {},
   "source": [
    "# Data cleaning"
   ]
  },
  {
   "cell_type": "code",
   "execution_count": 4,
   "metadata": {},
   "outputs": [],
   "source": [
    "def check_data (df):\n",
    "    \"\"\"\n",
    "    check data types of values in the pandas data frame and number of missing values\n",
    "    \n",
    "    input:\n",
    "        df - as pandas data frame to analyze\n",
    "    \n",
    "    output:\n",
    "        pandas data frame with column name, \n",
    "                                column data type, \n",
    "                                the data type of actual value in the column\n",
    "                                number of missing values\n",
    "                                value example\n",
    "    \"\"\"\n",
    "    df_data_types = []\n",
    "    actual_data_types = []\n",
    "    num_missing = []\n",
    "    values = []\n",
    "    columns = list(df_data.columns)\n",
    "    \n",
    "    for column in df_data.columns:\n",
    "        #selecting only non missing values in the column\n",
    "        df_tmp = df[df[column].isnull() == False]\n",
    "        \n",
    "        #count number of missing values\n",
    "        num_missing.append(len(df) - len(df_tmp))\n",
    "        \n",
    "        #getting column data type\n",
    "        dtype = str(df_tmp[column].dtypes)\n",
    "        df_data_types.append(dtype)\n",
    "                \n",
    "        #getting data type of an actual value\n",
    "        actual_value = df_tmp[column].iloc[0]\n",
    "        m = re.search(\"'.+'\", str(type(actual_value)))\n",
    "        if m:\n",
    "            dtype = m.group(0)\n",
    "        else:\n",
    "            dtype =  ''   \n",
    "        actual_data_types.append(dtype)\n",
    "        values.append(actual_value)\n",
    "        \n",
    "    #create data frame with data types comparison\n",
    "    df_result = pd.DataFrame({\n",
    "                              'data type': df_data_types,\n",
    "                              'actual data type': actual_data_types,\n",
    "                              'number of missing values': num_missing,\n",
    "                              'value example': values\n",
    "                             }, index=columns)\n",
    "    return df_result"
   ]
  },
  {
   "cell_type": "code",
   "execution_count": 5,
   "metadata": {},
   "outputs": [
    {
     "name": "stdout",
     "output_type": "stream",
     "text": [
      "datatype = \"object\" means the column has string and/or missing values in it.\n"
     ]
    },
    {
     "data": {
      "text/html": [
       "<div>\n",
       "<style scoped>\n",
       "    .dataframe tbody tr th:only-of-type {\n",
       "        vertical-align: middle;\n",
       "    }\n",
       "\n",
       "    .dataframe tbody tr th {\n",
       "        vertical-align: top;\n",
       "    }\n",
       "\n",
       "    .dataframe thead th {\n",
       "        text-align: right;\n",
       "    }\n",
       "</style>\n",
       "<table border=\"1\" class=\"dataframe\">\n",
       "  <thead>\n",
       "    <tr style=\"text-align: right;\">\n",
       "      <th></th>\n",
       "      <th>data type</th>\n",
       "      <th>actual data type</th>\n",
       "      <th>number of missing values</th>\n",
       "      <th>value example</th>\n",
       "    </tr>\n",
       "  </thead>\n",
       "  <tbody>\n",
       "    <tr>\n",
       "      <th>Hotel_ID</th>\n",
       "      <td>int64</td>\n",
       "      <td>'numpy.int64'</td>\n",
       "      <td>0</td>\n",
       "      <td>1</td>\n",
       "    </tr>\n",
       "    <tr>\n",
       "      <th>Hotel_originalname</th>\n",
       "      <td>object</td>\n",
       "      <td>'str'</td>\n",
       "      <td>0</td>\n",
       "      <td>ÊÊAustin-RÊRoÊAUSTIN\\nFOUR SEASONS HOTEL AUST</td>\n",
       "    </tr>\n",
       "    <tr>\n",
       "      <th>address</th>\n",
       "      <td>object</td>\n",
       "      <td>'str'</td>\n",
       "      <td>0</td>\n",
       "      <td>98 San Jacinto Blvd, Austin, TX 78701-4082</td>\n",
       "    </tr>\n",
       "    <tr>\n",
       "      <th>price_range</th>\n",
       "      <td>object</td>\n",
       "      <td>'str'</td>\n",
       "      <td>818</td>\n",
       "      <td>CN´3,223 - CN´10,600</td>\n",
       "    </tr>\n",
       "    <tr>\n",
       "      <th>average_rating</th>\n",
       "      <td>float64</td>\n",
       "      <td>'numpy.float64'</td>\n",
       "      <td>0</td>\n",
       "      <td>4.5</td>\n",
       "    </tr>\n",
       "    <tr>\n",
       "      <th>number_of_reviews_hotel</th>\n",
       "      <td>object</td>\n",
       "      <td>'str'</td>\n",
       "      <td>0</td>\n",
       "      <td>2,005</td>\n",
       "    </tr>\n",
       "    <tr>\n",
       "      <th>hotel_star</th>\n",
       "      <td>float64</td>\n",
       "      <td>'numpy.float64'</td>\n",
       "      <td>0</td>\n",
       "      <td>5</td>\n",
       "    </tr>\n",
       "    <tr>\n",
       "      <th>Hotel_Name_tripadvisor</th>\n",
       "      <td>object</td>\n",
       "      <td>'str'</td>\n",
       "      <td>0</td>\n",
       "      <td>Four Seasons Hotel Austin</td>\n",
       "    </tr>\n",
       "    <tr>\n",
       "      <th>helpfulness_vote</th>\n",
       "      <td>int64</td>\n",
       "      <td>'numpy.int64'</td>\n",
       "      <td>0</td>\n",
       "      <td>0</td>\n",
       "    </tr>\n",
       "    <tr>\n",
       "      <th>mgtresponse_content</th>\n",
       "      <td>object</td>\n",
       "      <td>'str'</td>\n",
       "      <td>110116</td>\n",
       "      <td>Dear marver99,Thank you for choosing to stay at Four Seasons Hotel Austin and for taking the time to provide feedback on your visit. I appreciate ...</td>\n",
       "    </tr>\n",
       "    <tr>\n",
       "      <th>mgtresponse_time</th>\n",
       "      <td>object</td>\n",
       "      <td>'str'</td>\n",
       "      <td>110116</td>\n",
       "      <td>1 week ago</td>\n",
       "    </tr>\n",
       "    <tr>\n",
       "      <th>individual_ratings</th>\n",
       "      <td>int64</td>\n",
       "      <td>'numpy.int64'</td>\n",
       "      <td>0</td>\n",
       "      <td>5</td>\n",
       "    </tr>\n",
       "    <tr>\n",
       "      <th>review_content</th>\n",
       "      <td>object</td>\n",
       "      <td>'str'</td>\n",
       "      <td>0</td>\n",
       "      <td>I like this hotel a lot. The location, the food, room service and all the personal is great!  IÕve stayed in a suite with a city view. And also in...</td>\n",
       "    </tr>\n",
       "    <tr>\n",
       "      <th>reviewer_contribution</th>\n",
       "      <td>object</td>\n",
       "      <td>'int'</td>\n",
       "      <td>0</td>\n",
       "      <td>22</td>\n",
       "    </tr>\n",
       "    <tr>\n",
       "      <th>review_time</th>\n",
       "      <td>object</td>\n",
       "      <td>'str'</td>\n",
       "      <td>0</td>\n",
       "      <td>Reviewed 1 week ago</td>\n",
       "    </tr>\n",
       "    <tr>\n",
       "      <th>review_title</th>\n",
       "      <td>object</td>\n",
       "      <td>'str'</td>\n",
       "      <td>15</td>\n",
       "      <td>Familia trip</td>\n",
       "    </tr>\n",
       "    <tr>\n",
       "      <th>reviewer_id</th>\n",
       "      <td>object</td>\n",
       "      <td>'str'</td>\n",
       "      <td>0</td>\n",
       "      <td>marver99</td>\n",
       "    </tr>\n",
       "    <tr>\n",
       "      <th>mgtresponse_who</th>\n",
       "      <td>object</td>\n",
       "      <td>'str'</td>\n",
       "      <td>110116</td>\n",
       "      <td>fsaustin, General Manager at Four Seasons Hotel Austin, responded to this review</td>\n",
       "    </tr>\n",
       "  </tbody>\n",
       "</table>\n",
       "</div>"
      ],
      "text/plain": [
       "                        data type actual data type  number of missing values  \\\n",
       "Hotel_ID                    int64    'numpy.int64'                         0   \n",
       "Hotel_originalname         object            'str'                         0   \n",
       "address                    object            'str'                         0   \n",
       "price_range                object            'str'                       818   \n",
       "average_rating            float64  'numpy.float64'                         0   \n",
       "number_of_reviews_hotel    object            'str'                         0   \n",
       "hotel_star                float64  'numpy.float64'                         0   \n",
       "Hotel_Name_tripadvisor     object            'str'                         0   \n",
       "helpfulness_vote            int64    'numpy.int64'                         0   \n",
       "mgtresponse_content        object            'str'                    110116   \n",
       "mgtresponse_time           object            'str'                    110116   \n",
       "individual_ratings          int64    'numpy.int64'                         0   \n",
       "review_content             object            'str'                         0   \n",
       "reviewer_contribution      object            'int'                         0   \n",
       "review_time                object            'str'                         0   \n",
       "review_title               object            'str'                        15   \n",
       "reviewer_id                object            'str'                         0   \n",
       "mgtresponse_who            object            'str'                    110116   \n",
       "\n",
       "                                                                                                                                                                 value example  \n",
       "Hotel_ID                                                                                                                                                                     1  \n",
       "Hotel_originalname                                                                                                               ÊÊAustin-RÊRoÊAUSTIN\\nFOUR SEASONS HOTEL AUST  \n",
       "address                                                                                                                             98 San Jacinto Blvd, Austin, TX 78701-4082  \n",
       "price_range                                                                                                                                               CN´3,223 - CN´10,600  \n",
       "average_rating                                                                                                                                                             4.5  \n",
       "number_of_reviews_hotel                                                                                                                                                  2,005  \n",
       "hotel_star                                                                                                                                                                   5  \n",
       "Hotel_Name_tripadvisor                                                                                                                               Four Seasons Hotel Austin  \n",
       "helpfulness_vote                                                                                                                                                             0  \n",
       "mgtresponse_content      Dear marver99,Thank you for choosing to stay at Four Seasons Hotel Austin and for taking the time to provide feedback on your visit. I appreciate ...  \n",
       "mgtresponse_time                                                                                                                                                    1 week ago  \n",
       "individual_ratings                                                                                                                                                           5  \n",
       "review_content           I like this hotel a lot. The location, the food, room service and all the personal is great!  IÕve stayed in a suite with a city view. And also in...  \n",
       "reviewer_contribution                                                                                                                                                       22  \n",
       "review_time                                                                                                                                               Reviewed 1 week ago   \n",
       "review_title                                                                                                                                                      Familia trip  \n",
       "reviewer_id                                                                                                                                                           marver99  \n",
       "mgtresponse_who                                                                               fsaustin, General Manager at Four Seasons Hotel Austin, responded to this review  "
      ]
     },
     "execution_count": 5,
     "metadata": {},
     "output_type": "execute_result"
    }
   ],
   "source": [
    "# checking data quality\n",
    "print('datatype = \"object\" means the column has string and/or missing values in it.')\n",
    "check_data(df_data)"
   ]
  },
  {
   "cell_type": "code",
   "execution_count": 6,
   "metadata": {},
   "outputs": [
    {
     "data": {
      "text/plain": [
       "0    2005\n",
       "1    2005\n",
       "2    2005\n",
       "3    2005\n",
       "4    2005\n",
       "Name: number_of_reviews_hotel, dtype: int64"
      ]
     },
     "execution_count": 6,
     "metadata": {},
     "output_type": "execute_result"
    }
   ],
   "source": [
    "# convert \"number_of_reviews_hotel\" to integer type\n",
    "#delete any non-integer symbol from values of \"number_of_reviews_hotel\"\n",
    "df_data['number_of_reviews_hotel'] = df_data['number_of_reviews_hotel'].str.replace('[^\\d]', '', regex=True)\n",
    "\n",
    "#convert string to integer\n",
    "df_data['number_of_reviews_hotel'] = df_data['number_of_reviews_hotel'].apply(int)\n",
    "df_data['number_of_reviews_hotel'].head()"
   ]
  },
  {
   "cell_type": "code",
   "execution_count": 7,
   "metadata": {},
   "outputs": [
    {
     "data": {
      "text/plain": [
       "it is None    10\n",
       "Name: reviewer_contribution, dtype: int64"
      ]
     },
     "execution_count": 7,
     "metadata": {},
     "output_type": "execute_result"
    }
   ],
   "source": [
    "#since \"reviewer_contribution\" has mixed types, check strings that are mixed with integers\n",
    "df_tmp = df_data[df_data['reviewer_contribution'].apply(str).str.contains('[a-z]', case=False, regex=True)]\n",
    "df_tmp['reviewer_contribution'].value_counts()"
   ]
  },
  {
   "cell_type": "code",
   "execution_count": 8,
   "metadata": {},
   "outputs": [
    {
     "data": {
      "text/plain": [
       "0     22\n",
       "1      6\n",
       "2     47\n",
       "3    117\n",
       "4      1\n",
       "Name: reviewer_contribution, dtype: int64"
      ]
     },
     "execution_count": 8,
     "metadata": {},
     "output_type": "execute_result"
    }
   ],
   "source": [
    "# replace non-integer values in \"reviewer_contribution\" with 0\n",
    "df_data['reviewer_contribution'] = df_data['reviewer_contribution'].apply(str).str.replace('[^\\d]', '0', regex=True)\n",
    "\n",
    "# convert reviewer_contribution to integer type \n",
    "df_data['reviewer_contribution'] = df_data['reviewer_contribution'].apply(int)\n",
    "df_data['reviewer_contribution'].head()"
   ]
  },
  {
   "cell_type": "code",
   "execution_count": 9,
   "metadata": {},
   "outputs": [
    {
     "data": {
      "text/html": [
       "<div>\n",
       "<style scoped>\n",
       "    .dataframe tbody tr th:only-of-type {\n",
       "        vertical-align: middle;\n",
       "    }\n",
       "\n",
       "    .dataframe tbody tr th {\n",
       "        vertical-align: top;\n",
       "    }\n",
       "\n",
       "    .dataframe thead th {\n",
       "        text-align: right;\n",
       "    }\n",
       "</style>\n",
       "<table border=\"1\" class=\"dataframe\">\n",
       "  <thead>\n",
       "    <tr style=\"text-align: right;\">\n",
       "      <th></th>\n",
       "      <th>data type</th>\n",
       "      <th>actual data type</th>\n",
       "      <th>number of missing values</th>\n",
       "      <th>value example</th>\n",
       "    </tr>\n",
       "  </thead>\n",
       "  <tbody>\n",
       "    <tr>\n",
       "      <th>Hotel_ID</th>\n",
       "      <td>int64</td>\n",
       "      <td>'numpy.int64'</td>\n",
       "      <td>0</td>\n",
       "      <td>1</td>\n",
       "    </tr>\n",
       "    <tr>\n",
       "      <th>Hotel_originalname</th>\n",
       "      <td>object</td>\n",
       "      <td>'str'</td>\n",
       "      <td>0</td>\n",
       "      <td>ÊÊAustin-RÊRoÊAUSTIN\\nFOUR SEASONS HOTEL AUST</td>\n",
       "    </tr>\n",
       "    <tr>\n",
       "      <th>address</th>\n",
       "      <td>object</td>\n",
       "      <td>'str'</td>\n",
       "      <td>0</td>\n",
       "      <td>98 San Jacinto Blvd, Austin, TX 78701-4082</td>\n",
       "    </tr>\n",
       "    <tr>\n",
       "      <th>price_range</th>\n",
       "      <td>object</td>\n",
       "      <td>'str'</td>\n",
       "      <td>818</td>\n",
       "      <td>CN´3,223 - CN´10,600</td>\n",
       "    </tr>\n",
       "    <tr>\n",
       "      <th>average_rating</th>\n",
       "      <td>float64</td>\n",
       "      <td>'numpy.float64'</td>\n",
       "      <td>0</td>\n",
       "      <td>4.5</td>\n",
       "    </tr>\n",
       "    <tr>\n",
       "      <th>number_of_reviews_hotel</th>\n",
       "      <td>int64</td>\n",
       "      <td>'numpy.int64'</td>\n",
       "      <td>0</td>\n",
       "      <td>2005</td>\n",
       "    </tr>\n",
       "    <tr>\n",
       "      <th>hotel_star</th>\n",
       "      <td>float64</td>\n",
       "      <td>'numpy.float64'</td>\n",
       "      <td>0</td>\n",
       "      <td>5</td>\n",
       "    </tr>\n",
       "    <tr>\n",
       "      <th>Hotel_Name_tripadvisor</th>\n",
       "      <td>object</td>\n",
       "      <td>'str'</td>\n",
       "      <td>0</td>\n",
       "      <td>Four Seasons Hotel Austin</td>\n",
       "    </tr>\n",
       "    <tr>\n",
       "      <th>helpfulness_vote</th>\n",
       "      <td>int64</td>\n",
       "      <td>'numpy.int64'</td>\n",
       "      <td>0</td>\n",
       "      <td>0</td>\n",
       "    </tr>\n",
       "    <tr>\n",
       "      <th>mgtresponse_content</th>\n",
       "      <td>object</td>\n",
       "      <td>'str'</td>\n",
       "      <td>110116</td>\n",
       "      <td>Dear marver99,Thank you for choosing to stay at Four Seasons Hotel Austin and for taking the time to provide feedback on your visit. I appreciate ...</td>\n",
       "    </tr>\n",
       "    <tr>\n",
       "      <th>mgtresponse_time</th>\n",
       "      <td>object</td>\n",
       "      <td>'str'</td>\n",
       "      <td>110116</td>\n",
       "      <td>1 week ago</td>\n",
       "    </tr>\n",
       "    <tr>\n",
       "      <th>individual_ratings</th>\n",
       "      <td>int64</td>\n",
       "      <td>'numpy.int64'</td>\n",
       "      <td>0</td>\n",
       "      <td>5</td>\n",
       "    </tr>\n",
       "    <tr>\n",
       "      <th>review_content</th>\n",
       "      <td>object</td>\n",
       "      <td>'str'</td>\n",
       "      <td>0</td>\n",
       "      <td>I like this hotel a lot. The location, the food, room service and all the personal is great!  IÕve stayed in a suite with a city view. And also in...</td>\n",
       "    </tr>\n",
       "    <tr>\n",
       "      <th>reviewer_contribution</th>\n",
       "      <td>int64</td>\n",
       "      <td>'numpy.int64'</td>\n",
       "      <td>0</td>\n",
       "      <td>22</td>\n",
       "    </tr>\n",
       "    <tr>\n",
       "      <th>review_time</th>\n",
       "      <td>object</td>\n",
       "      <td>'str'</td>\n",
       "      <td>0</td>\n",
       "      <td>Reviewed 1 week ago</td>\n",
       "    </tr>\n",
       "    <tr>\n",
       "      <th>review_title</th>\n",
       "      <td>object</td>\n",
       "      <td>'str'</td>\n",
       "      <td>15</td>\n",
       "      <td>Familia trip</td>\n",
       "    </tr>\n",
       "    <tr>\n",
       "      <th>reviewer_id</th>\n",
       "      <td>object</td>\n",
       "      <td>'str'</td>\n",
       "      <td>0</td>\n",
       "      <td>marver99</td>\n",
       "    </tr>\n",
       "    <tr>\n",
       "      <th>mgtresponse_who</th>\n",
       "      <td>object</td>\n",
       "      <td>'str'</td>\n",
       "      <td>110116</td>\n",
       "      <td>fsaustin, General Manager at Four Seasons Hotel Austin, responded to this review</td>\n",
       "    </tr>\n",
       "  </tbody>\n",
       "</table>\n",
       "</div>"
      ],
      "text/plain": [
       "                        data type actual data type  number of missing values  \\\n",
       "Hotel_ID                    int64    'numpy.int64'                         0   \n",
       "Hotel_originalname         object            'str'                         0   \n",
       "address                    object            'str'                         0   \n",
       "price_range                object            'str'                       818   \n",
       "average_rating            float64  'numpy.float64'                         0   \n",
       "number_of_reviews_hotel     int64    'numpy.int64'                         0   \n",
       "hotel_star                float64  'numpy.float64'                         0   \n",
       "Hotel_Name_tripadvisor     object            'str'                         0   \n",
       "helpfulness_vote            int64    'numpy.int64'                         0   \n",
       "mgtresponse_content        object            'str'                    110116   \n",
       "mgtresponse_time           object            'str'                    110116   \n",
       "individual_ratings          int64    'numpy.int64'                         0   \n",
       "review_content             object            'str'                         0   \n",
       "reviewer_contribution       int64    'numpy.int64'                         0   \n",
       "review_time                object            'str'                         0   \n",
       "review_title               object            'str'                        15   \n",
       "reviewer_id                object            'str'                         0   \n",
       "mgtresponse_who            object            'str'                    110116   \n",
       "\n",
       "                                                                                                                                                                 value example  \n",
       "Hotel_ID                                                                                                                                                                     1  \n",
       "Hotel_originalname                                                                                                               ÊÊAustin-RÊRoÊAUSTIN\\nFOUR SEASONS HOTEL AUST  \n",
       "address                                                                                                                             98 San Jacinto Blvd, Austin, TX 78701-4082  \n",
       "price_range                                                                                                                                               CN´3,223 - CN´10,600  \n",
       "average_rating                                                                                                                                                             4.5  \n",
       "number_of_reviews_hotel                                                                                                                                                   2005  \n",
       "hotel_star                                                                                                                                                                   5  \n",
       "Hotel_Name_tripadvisor                                                                                                                               Four Seasons Hotel Austin  \n",
       "helpfulness_vote                                                                                                                                                             0  \n",
       "mgtresponse_content      Dear marver99,Thank you for choosing to stay at Four Seasons Hotel Austin and for taking the time to provide feedback on your visit. I appreciate ...  \n",
       "mgtresponse_time                                                                                                                                                    1 week ago  \n",
       "individual_ratings                                                                                                                                                           5  \n",
       "review_content           I like this hotel a lot. The location, the food, room service and all the personal is great!  IÕve stayed in a suite with a city view. And also in...  \n",
       "reviewer_contribution                                                                                                                                                       22  \n",
       "review_time                                                                                                                                               Reviewed 1 week ago   \n",
       "review_title                                                                                                                                                      Familia trip  \n",
       "reviewer_id                                                                                                                                                           marver99  \n",
       "mgtresponse_who                                                                               fsaustin, General Manager at Four Seasons Hotel Austin, responded to this review  "
      ]
     },
     "execution_count": 9,
     "metadata": {},
     "output_type": "execute_result"
    }
   ],
   "source": [
    "# recheck data quality\n",
    "check_data(df_data)"
   ]
  },
  {
   "cell_type": "code",
   "execution_count": 10,
   "metadata": {},
   "outputs": [
    {
     "data": {
      "text/plain": [
       "count    272243.00000\n",
       "mean        575.18212\n",
       "std         533.63015\n",
       "min           1.00000\n",
       "1%          142.00000\n",
       "5%          206.00000\n",
       "25%         261.00000\n",
       "50%         390.00000\n",
       "75%         683.00000\n",
       "95%        1556.00000\n",
       "99%        2721.00000\n",
       "max       17074.00000\n",
       "Name: review_content_length, dtype: float64"
      ]
     },
     "execution_count": 10,
     "metadata": {},
     "output_type": "execute_result"
    }
   ],
   "source": [
    "# calculate text length of each review in symbols\n",
    "df_data[\"review_content_length\"] = df_data['review_content'].apply(len)\n",
    "\n",
    "#look at descriptive statistic\n",
    "df_data[\"review_content_length\"].describe(percentiles=[0.01,0.05,0.25,0.5,0.75,0.95,0.99])"
   ]
  },
  {
   "cell_type": "code",
   "execution_count": 11,
   "metadata": {},
   "outputs": [
    {
     "name": "stdout",
     "output_type": "stream",
     "text": [
      "minimum length:  1\n",
      "maximum  length:  17074\n",
      "\n",
      "1st percentile:  142.0 \n",
      "99th percentile:  2721.0\n",
      "\n",
      "\n",
      "Data size before deletion:  272243\n",
      "Data size after deletion:   266805\n"
     ]
    }
   ],
   "source": [
    "# delete reviews with length less than 1st percentile and more than 99th percentile of the sample\n",
    "#since they are suspiciously short or long\n",
    "#calculate length percentiles\n",
    "pct1 = df_data[\"review_content_length\"].quantile(0.01)\n",
    "pct99 = df_data[\"review_content_length\"].quantile(0.99)\n",
    "\n",
    "print('minimum length: ',df_data[\"review_content_length\"].min())\n",
    "print('maximum  length: ',df_data[\"review_content_length\"].max())\n",
    "print('\\n1st percentile: ', pct1, '\\n99th percentile: ', pct99)\n",
    "\n",
    "#delete suspicious values\n",
    "print('\\n\\nData size before deletion: ', len(df_data))\n",
    "df_data = df_data[(df_data[\"review_content_length\"] >= pct1) & (df_data[\"review_content_length\"] <= pct99)]\n",
    "print('Data size after deletion:  ', len(df_data))"
   ]
  },
  {
   "cell_type": "code",
   "execution_count": 12,
   "metadata": {},
   "outputs": [
    {
     "name": "stdout",
     "output_type": "stream",
     "text": [
      "Total number of observations:  266805\n"
     ]
    },
    {
     "data": {
      "text/html": [
       "<div>\n",
       "<style scoped>\n",
       "    .dataframe tbody tr th:only-of-type {\n",
       "        vertical-align: middle;\n",
       "    }\n",
       "\n",
       "    .dataframe tbody tr th {\n",
       "        vertical-align: top;\n",
       "    }\n",
       "\n",
       "    .dataframe thead th {\n",
       "        text-align: right;\n",
       "    }\n",
       "</style>\n",
       "<table border=\"1\" class=\"dataframe\">\n",
       "  <thead>\n",
       "    <tr style=\"text-align: right;\">\n",
       "      <th></th>\n",
       "      <th>count</th>\n",
       "      <th>mean</th>\n",
       "      <th>std</th>\n",
       "      <th>min</th>\n",
       "      <th>1%</th>\n",
       "      <th>5%</th>\n",
       "      <th>25%</th>\n",
       "      <th>50%</th>\n",
       "      <th>75%</th>\n",
       "      <th>95%</th>\n",
       "      <th>99%</th>\n",
       "      <th>max</th>\n",
       "    </tr>\n",
       "  </thead>\n",
       "  <tbody>\n",
       "    <tr>\n",
       "      <th>Hotel_ID</th>\n",
       "      <td>266805.0</td>\n",
       "      <td>186.803171</td>\n",
       "      <td>120.233637</td>\n",
       "      <td>1.0</td>\n",
       "      <td>2.0</td>\n",
       "      <td>8.0</td>\n",
       "      <td>83.0</td>\n",
       "      <td>179.0</td>\n",
       "      <td>293.0</td>\n",
       "      <td>384.0</td>\n",
       "      <td>411.00</td>\n",
       "      <td>420.0</td>\n",
       "    </tr>\n",
       "    <tr>\n",
       "      <th>average_rating</th>\n",
       "      <td>266805.0</td>\n",
       "      <td>4.123723</td>\n",
       "      <td>0.386241</td>\n",
       "      <td>2.0</td>\n",
       "      <td>3.0</td>\n",
       "      <td>3.5</td>\n",
       "      <td>4.0</td>\n",
       "      <td>4.0</td>\n",
       "      <td>4.5</td>\n",
       "      <td>4.5</td>\n",
       "      <td>4.50</td>\n",
       "      <td>5.0</td>\n",
       "    </tr>\n",
       "    <tr>\n",
       "      <th>number_of_reviews_hotel</th>\n",
       "      <td>266805.0</td>\n",
       "      <td>1630.326853</td>\n",
       "      <td>1576.745403</td>\n",
       "      <td>29.0</td>\n",
       "      <td>126.0</td>\n",
       "      <td>219.0</td>\n",
       "      <td>601.0</td>\n",
       "      <td>1068.0</td>\n",
       "      <td>2202.0</td>\n",
       "      <td>4399.0</td>\n",
       "      <td>7821.00</td>\n",
       "      <td>7821.0</td>\n",
       "    </tr>\n",
       "    <tr>\n",
       "      <th>hotel_star</th>\n",
       "      <td>266805.0</td>\n",
       "      <td>3.431750</td>\n",
       "      <td>0.648582</td>\n",
       "      <td>2.0</td>\n",
       "      <td>2.0</td>\n",
       "      <td>2.5</td>\n",
       "      <td>3.0</td>\n",
       "      <td>3.5</td>\n",
       "      <td>4.0</td>\n",
       "      <td>4.5</td>\n",
       "      <td>5.00</td>\n",
       "      <td>5.0</td>\n",
       "    </tr>\n",
       "    <tr>\n",
       "      <th>helpfulness_vote</th>\n",
       "      <td>266805.0</td>\n",
       "      <td>0.380866</td>\n",
       "      <td>0.926296</td>\n",
       "      <td>0.0</td>\n",
       "      <td>0.0</td>\n",
       "      <td>0.0</td>\n",
       "      <td>0.0</td>\n",
       "      <td>0.0</td>\n",
       "      <td>0.0</td>\n",
       "      <td>2.0</td>\n",
       "      <td>4.00</td>\n",
       "      <td>60.0</td>\n",
       "    </tr>\n",
       "    <tr>\n",
       "      <th>individual_ratings</th>\n",
       "      <td>266805.0</td>\n",
       "      <td>4.120642</td>\n",
       "      <td>1.132102</td>\n",
       "      <td>1.0</td>\n",
       "      <td>1.0</td>\n",
       "      <td>2.0</td>\n",
       "      <td>4.0</td>\n",
       "      <td>5.0</td>\n",
       "      <td>5.0</td>\n",
       "      <td>5.0</td>\n",
       "      <td>5.00</td>\n",
       "      <td>5.0</td>\n",
       "    </tr>\n",
       "    <tr>\n",
       "      <th>reviewer_contribution</th>\n",
       "      <td>266805.0</td>\n",
       "      <td>44.764847</td>\n",
       "      <td>114.541639</td>\n",
       "      <td>0.0</td>\n",
       "      <td>1.0</td>\n",
       "      <td>1.0</td>\n",
       "      <td>1.0</td>\n",
       "      <td>7.0</td>\n",
       "      <td>42.0</td>\n",
       "      <td>197.0</td>\n",
       "      <td>504.00</td>\n",
       "      <td>6990.0</td>\n",
       "    </tr>\n",
       "    <tr>\n",
       "      <th>review_content_length</th>\n",
       "      <td>266805.0</td>\n",
       "      <td>548.417159</td>\n",
       "      <td>420.606483</td>\n",
       "      <td>142.0</td>\n",
       "      <td>199.0</td>\n",
       "      <td>208.0</td>\n",
       "      <td>262.0</td>\n",
       "      <td>390.0</td>\n",
       "      <td>674.0</td>\n",
       "      <td>1451.0</td>\n",
       "      <td>2189.96</td>\n",
       "      <td>2721.0</td>\n",
       "    </tr>\n",
       "  </tbody>\n",
       "</table>\n",
       "</div>"
      ],
      "text/plain": [
       "                            count         mean          std    min     1%  \\\n",
       "Hotel_ID                 266805.0   186.803171   120.233637    1.0    2.0   \n",
       "average_rating           266805.0     4.123723     0.386241    2.0    3.0   \n",
       "number_of_reviews_hotel  266805.0  1630.326853  1576.745403   29.0  126.0   \n",
       "hotel_star               266805.0     3.431750     0.648582    2.0    2.0   \n",
       "helpfulness_vote         266805.0     0.380866     0.926296    0.0    0.0   \n",
       "individual_ratings       266805.0     4.120642     1.132102    1.0    1.0   \n",
       "reviewer_contribution    266805.0    44.764847   114.541639    0.0    1.0   \n",
       "review_content_length    266805.0   548.417159   420.606483  142.0  199.0   \n",
       "\n",
       "                            5%    25%     50%     75%     95%      99%     max  \n",
       "Hotel_ID                   8.0   83.0   179.0   293.0   384.0   411.00   420.0  \n",
       "average_rating             3.5    4.0     4.0     4.5     4.5     4.50     5.0  \n",
       "number_of_reviews_hotel  219.0  601.0  1068.0  2202.0  4399.0  7821.00  7821.0  \n",
       "hotel_star                 2.5    3.0     3.5     4.0     4.5     5.00     5.0  \n",
       "helpfulness_vote           0.0    0.0     0.0     0.0     2.0     4.00    60.0  \n",
       "individual_ratings         2.0    4.0     5.0     5.0     5.0     5.00     5.0  \n",
       "reviewer_contribution      1.0    1.0     7.0    42.0   197.0   504.00  6990.0  \n",
       "review_content_length    208.0  262.0   390.0   674.0  1451.0  2189.96  2721.0  "
      ]
     },
     "execution_count": 12,
     "metadata": {},
     "output_type": "execute_result"
    }
   ],
   "source": [
    "# look at descriptive statistics\n",
    "print(\"Total number of observations: \", len(df_data))\n",
    "df_data.describe(percentiles=[0.01,0.05,0.25,0.5,0.75,0.95,0.99]).T"
   ]
  },
  {
   "cell_type": "markdown",
   "metadata": {},
   "source": [
    "There are no missing values for numeric fields in the data"
   ]
  },
  {
   "cell_type": "code",
   "execution_count": 13,
   "metadata": {},
   "outputs": [
    {
     "name": "stdout",
     "output_type": "stream",
     "text": [
      "Possible values in the column \"review_time\":\n",
      "\n",
      "\n",
      "272240    Reviewed 27 August 2010 \n",
      "272241      Reviewed 23 July 2010 \n",
      "Name: review_time, dtype: object\n",
      "\n",
      "Number of values that are not dates:  3266\n",
      "Examples of values that are not dates:\n"
     ]
    },
    {
     "data": {
      "text/plain": [
       "Reviewed 4 weeks ago     722\n",
       "Reviewed 2 weeks ago     667\n",
       "Reviewed 3 weeks ago     639\n",
       "Reviewed 1 week ago      618\n",
       "Reviewed 4 days ago      123\n",
       "Reviewed 5 days ago      108\n",
       "Reviewed 3 days ago       95\n",
       "Reviewed 6 days ago       83\n",
       "Reviewed 5 weeks ago      72\n",
       "Reviewed yesterday        72\n",
       "Reviewed 2 days ago       55\n",
       "Reviewed today            12\n",
       "Name: review_time, dtype: int64"
      ]
     },
     "execution_count": 13,
     "metadata": {},
     "output_type": "execute_result"
    }
   ],
   "source": [
    "# check review posting date values\n",
    "print('Possible values in the column \"review_time\":\\n\\n')\n",
    "print(df_data['review_time'].tail(2))\n",
    "print()\n",
    "ts_tmp = df_data[df_data['review_time'].str.contains('\\d\\d\\d\\d', regex=True) == False]['review_time'].value_counts()\n",
    "print('Number of values that are not dates: ', ts_tmp.sum())\n",
    "print('Examples of values that are not dates:')\n",
    "ts_tmp"
   ]
  },
  {
   "cell_type": "code",
   "execution_count": 14,
   "metadata": {},
   "outputs": [
    {
     "name": "stdout",
     "output_type": "stream",
     "text": [
      "Number of errors durng convertion, since there are values that are not dates:  263539\n",
      "Date extraction is sucessful:  True\n"
     ]
    },
    {
     "data": {
      "text/plain": [
       "count                  263539\n",
       "unique                   1521\n",
       "top       2016-06-02 00:00:00\n",
       "freq                     2020\n",
       "first     2002-01-01 00:00:00\n",
       "last      2018-08-04 00:00:00\n",
       "Name: py_review_date, dtype: object"
      ]
     },
     "execution_count": 14,
     "metadata": {},
     "output_type": "execute_result"
    }
   ],
   "source": [
    "# get review posting date in python format where possible \n",
    "#extract date in str format\n",
    "df_data['py_review_date'] = df_data['review_time'].str.replace('Reviewed ','')\n",
    "df_data['py_review_date'] = df_data['py_review_date'].str.replace('yesterday','| | |')\n",
    "df_data['py_review_date'] = df_data['py_review_date'].str.replace('today','| | |')\n",
    "\n",
    "# pad 0 in front of single digit dates\n",
    "df_data['tmp_list'] = df_data['py_review_date'].str.split(' ')\n",
    "df_data['tmp'] = '0' + df_data['tmp_list'].str.get(0)\n",
    "df_data['tmp'] = df_data['tmp'].str[:2] \n",
    "df_data['py_review_date'] = df_data['tmp'] + df_data['tmp_list'].str.get(1)  + df_data['tmp_list'].str.get(2)\n",
    "df_data['py_review_date']\n",
    "\n",
    "#convert string date to pandas datetime format \n",
    "#NOTE: if string can not be converted it is replaced with missing value NaT\n",
    "df_data['py_review_date'] = pd.to_datetime(df_data['py_review_date'], format='%d%B%Y', errors='coerce')\n",
    "\n",
    "#check quality of extracted dates: values and range\n",
    "print('Number of errors durng convertion, since there are values that are not dates: ', len(df_data) - ts_tmp.sum())\n",
    "df_tmp = df_data[df_data['py_review_date'].isnull() == False]\n",
    "print('Date extraction is sucessful: ', (len(df_data) - ts_tmp.sum()) == len(df_tmp))\n",
    "df_data['py_review_date'].describe()"
   ]
  },
  {
   "cell_type": "code",
   "execution_count": 15,
   "metadata": {},
   "outputs": [
    {
     "data": {
      "text/plain": [
       "2.0    73722\n",
       "3.0    70464\n",
       "1.0    60919\n",
       "4.0    58434\n",
       "Name: quarter, dtype: int64"
      ]
     },
     "execution_count": 15,
     "metadata": {},
     "output_type": "execute_result"
    }
   ],
   "source": [
    "df_data['quarter'] = df_data['py_review_date'].dt.quarter\n",
    "df_data['quarter'].value_counts()"
   ]
  },
  {
   "cell_type": "markdown",
   "metadata": {},
   "source": [
    "##### Data cleaning steps done:\n",
    "- data checked for missing or suspicious values\n",
    "- review ratings are cleaned from data loading errors for analysis (transformed to integers)\n",
    "- reviews with that have very long text (> 99th percentile of the sample) \n",
    "or suspiciously short text (< 1st percentile of the sample) are deleted \n",
    "- review posting date is cleaned and prepared for analysis (transformed to python datetime format)"
   ]
  },
  {
   "cell_type": "markdown",
   "metadata": {},
   "source": [
    "# Exploratory data analysis \n",
    "## Univariate"
   ]
  },
  {
   "cell_type": "code",
   "execution_count": 16,
   "metadata": {},
   "outputs": [
    {
     "name": "stdout",
     "output_type": "stream",
     "text": [
      "\n",
      "\n",
      "numerical columns ( 9 ): \n",
      " ['average_rating', 'hotel_star', 'quarter', 'Hotel_ID', 'number_of_reviews_hotel', 'helpfulness_vote', 'individual_ratings', 'reviewer_contribution', 'review_content_length']\n",
      "\n",
      "\n",
      "non-numeric columns ( 13 ): \n",
      " ['Hotel_originalname', 'address', 'price_range', 'Hotel_Name_tripadvisor', 'mgtresponse_content', 'mgtresponse_time', 'review_content', 'review_time', 'review_title', 'reviewer_id', 'mgtresponse_who', 'tmp_list', 'tmp']\n"
     ]
    }
   ],
   "source": [
    "# grouping features by data types\n",
    "columns_numerical = list(df_data.select_dtypes('float')) + list(df_data.select_dtypes('int'))\n",
    "columns_non_numeric = list(df_data.select_dtypes('object')) \n",
    "\n",
    "print(\"\\n\\nnumerical columns (\", len(columns_numerical), \"): \\n\", columns_numerical)\n",
    "print(\"\\n\\nnon-numeric columns (\", len(columns_non_numeric), \"): \\n\", columns_non_numeric)"
   ]
  },
  {
   "cell_type": "code",
   "execution_count": 17,
   "metadata": {},
   "outputs": [],
   "source": [
    "def plot_distribution(df, list_col_names, cols=5, width=20, height=15, hspace=0.2, wspace=0.5):\n",
    "    \"\"\"\n",
    "    Plots individual columns data distribution in\n",
    "    formatted plots with counting of missing values\n",
    "    \n",
    "    Input:\n",
    "        df             - as pandas data frame with columns selected in list_col_names\n",
    "        list_col_names - as list of strings, column names to be plotted \n",
    "        cols           - as integer, number of plots in each row of the figure, default is 5\n",
    "        width          - as integer, absolute width of the figure with plots, default is 20\n",
    "        height         - as integer, absolute height of the figure with plots, default is 15\n",
    "        hspace         - as float, space between plots in a column on the figure, default is 0.2\n",
    "        wspace         - as float, space between plots in a row on the figure, default is 0.2\n",
    "    \"\"\"\n",
    "    #figure settings\n",
    "    sns.set_context(\"notebook\", font_scale=1.5, rc={\"lines.linewidth\": 2.5})\n",
    "    plt.style.use('seaborn-whitegrid')\n",
    "    fig = plt.figure(figsize=(width,height))\n",
    "    fig.subplots_adjust(left=None, bottom=None, right=None, top=None, wspace=wspace, hspace=hspace)\n",
    "    \n",
    "    #number of rows with plots\n",
    "    rows = math.ceil(len(list_col_names) / cols)\n",
    "    \n",
    "    #plot each plot depending on the data type and frequency of values in the column\n",
    "    for i, column in enumerate(list_col_names):\n",
    "        #select non-missing values\n",
    "        df_plot = df[df[column].isnull() == False].copy()\n",
    "        \n",
    "        # add plot to the figure\n",
    "        ax = fig.add_subplot(rows, cols, i + 1)\n",
    "        \n",
    "        #count number of unique values in the column\n",
    "        value_counts = df_plot[column].value_counts()\n",
    "        if len(value_counts) < 11:\n",
    "            #plot value counts for columns with no more than 10 values\n",
    "            g = sns.countplot(y=column, data=df_plot, palette='Set2')\n",
    "            substrings = [s.get_text()[:18] for s in g.get_yticklabels()]\n",
    "            g.set(yticklabels=substrings)\n",
    "            plt.xticks(rotation=25)\n",
    "        else: \n",
    "            if df_plot.dtypes[column] == np.object:\n",
    "                #plot 5 most frequent values for non-numeric column\n",
    "                value_counts = value_counts.iloc[:5].sort_values(ascending=True)\n",
    "                value_counts.plot.barh(ax=ax, alpha=0.5, color='c', legend=False) \n",
    "                ax.set_xlabel('Count')                \n",
    "            else:\n",
    "                #plot data distribution for numeric column\n",
    "                g = sns.distplot(df_plot[column])\n",
    "                plt.xticks(rotation=25)\n",
    "                ax.set_xlabel('values')\n",
    "        ax.set_title(column)"
   ]
  },
  {
   "cell_type": "code",
   "execution_count": 18,
   "metadata": {},
   "outputs": [
    {
     "data": {
      "image/png": "[encoded data removed]",
      "text/plain": [
       "<Figure size 1440x792 with 3 Axes>"
      ]
     },
     "metadata": {},
     "output_type": "display_data"
    }
   ],
   "source": [
    "# Let’s plot the distribution of each numerical feature\n",
    "column_names = ['helpfulness_vote', 'individual_ratings', 'review_content_length']\n",
    "plot_distribution(df_data, column_names, cols=2, width=20, height=11, hspace=1, wspace=0.5)"
   ]
  },
  {
   "cell_type": "code",
   "execution_count": 19,
   "metadata": {},
   "outputs": [
    {
     "name": "stdout",
     "output_type": "stream",
     "text": [
      "% of reviews with helpfulness_vote >= 2:\n"
     ]
    },
    {
     "data": {
      "text/plain": [
       "False    92.73327\n",
       "True      7.26673\n",
       "Name: helpfulness_vote, dtype: float64"
      ]
     },
     "execution_count": 19,
     "metadata": {},
     "output_type": "execute_result"
    }
   ],
   "source": [
    "print('% of reviews with helpfulness_vote >= 2:')\n",
    "(df_data['helpfulness_vote'] >= 2).value_counts() / 266805 * 100"
   ]
  },
  {
   "cell_type": "code",
   "execution_count": 20,
   "metadata": {},
   "outputs": [
    {
     "name": "stdout",
     "output_type": "stream",
     "text": [
      "% of reviews in each rating category:\n"
     ]
    },
    {
     "data": {
      "text/plain": [
       "5    50.525665\n",
       "4    26.557598\n",
       "3    12.144075\n",
       "2     6.000637\n",
       "1     4.772025\n",
       "Name: individual_ratings, dtype: float64"
      ]
     },
     "execution_count": 20,
     "metadata": {},
     "output_type": "execute_result"
    }
   ],
   "source": [
    "print('% of reviews in each rating category:')\n",
    "df_data['individual_ratings'].value_counts() / 266805 * 100"
   ]
  },
  {
   "cell_type": "code",
   "execution_count": 21,
   "metadata": {},
   "outputs": [
    {
     "name": "stdout",
     "output_type": "stream",
     "text": [
      "Distribution of number of reviews each reviewer gave:\n"
     ]
    },
    {
     "data": {
      "text/html": [
       "<div>\n",
       "<style scoped>\n",
       "    .dataframe tbody tr th:only-of-type {\n",
       "        vertical-align: middle;\n",
       "    }\n",
       "\n",
       "    .dataframe tbody tr th {\n",
       "        vertical-align: top;\n",
       "    }\n",
       "\n",
       "    .dataframe thead th {\n",
       "        text-align: right;\n",
       "    }\n",
       "</style>\n",
       "<table border=\"1\" class=\"dataframe\">\n",
       "  <thead>\n",
       "    <tr style=\"text-align: right;\">\n",
       "      <th></th>\n",
       "      <th>count</th>\n",
       "      <th>mean</th>\n",
       "      <th>std</th>\n",
       "      <th>min</th>\n",
       "      <th>0.1%</th>\n",
       "      <th>0.5%</th>\n",
       "      <th>25%</th>\n",
       "      <th>50%</th>\n",
       "      <th>75%</th>\n",
       "      <th>95%</th>\n",
       "      <th>99%</th>\n",
       "      <th>max</th>\n",
       "    </tr>\n",
       "  </thead>\n",
       "  <tbody>\n",
       "    <tr>\n",
       "      <th>review_content</th>\n",
       "      <td>167608.0</td>\n",
       "      <td>1.591839</td>\n",
       "      <td>2.932747</td>\n",
       "      <td>1.0</td>\n",
       "      <td>1.0</td>\n",
       "      <td>1.0</td>\n",
       "      <td>1.0</td>\n",
       "      <td>1.0</td>\n",
       "      <td>1.0</td>\n",
       "      <td>4.0</td>\n",
       "      <td>12.0</td>\n",
       "      <td>190.0</td>\n",
       "    </tr>\n",
       "  </tbody>\n",
       "</table>\n",
       "</div>"
      ],
      "text/plain": [
       "                   count      mean       std  min  0.1%  0.5%  25%  50%  75%  \\\n",
       "review_content  167608.0  1.591839  2.932747  1.0   1.0   1.0  1.0  1.0  1.0   \n",
       "\n",
       "                95%   99%    max  \n",
       "review_content  4.0  12.0  190.0  "
      ]
     },
     "execution_count": 21,
     "metadata": {},
     "output_type": "execute_result"
    }
   ],
   "source": [
    "#reviewer_contribution analysis\n",
    "df_tmp = pd.DataFrame(df_data.groupby('reviewer_id')['review_content'].count())\n",
    "\n",
    "print('Distribution of number of reviews each reviewer gave:')\n",
    "df_tmp.describe(percentiles=[0.001,0.005,0.25,0.5,0.75,0.95,0.99]).T"
   ]
  },
  {
   "cell_type": "markdown",
   "metadata": {},
   "source": [
    "##### Frequent reviewers analysis"
   ]
  },
  {
   "cell_type": "code",
   "execution_count": 22,
   "metadata": {},
   "outputs": [
    {
     "name": "stdout",
     "output_type": "stream",
     "text": [
      "Number of frequent reviewrs: 69134\n",
      "\n",
      "Distribution of hotel counts by frequent reviewrs:\n",
      "count    69134.000000\n",
      "mean         1.603364\n",
      "std          1.673391\n",
      "min          1.000000\n",
      "25%          1.000000\n",
      "50%          1.000000\n",
      "75%          2.000000\n",
      "max         49.000000\n",
      "Name: Hotel_ID, dtype: float64\n",
      "\n",
      "Ratings left by frequent reviewrs:\n",
      "5    46122\n",
      "4    41654\n",
      "3    18161\n",
      "2     5938\n",
      "1     2886\n",
      "Name: individual_ratings, dtype: int64\n"
     ]
    }
   ],
   "source": [
    "#look at the reviews left by frequent reviewers \n",
    "df_tmp = df_data[df_data['reviewer_contribution'] > 12]\n",
    "\n",
    "print('Number of frequent reviewrs:', len(set(df_tmp['reviewer_id'])))\n",
    "print('\\nDistribution of hotel counts by frequent reviewrs:')\n",
    "print(df_tmp.groupby('reviewer_id')['Hotel_ID'].nunique().describe())\n",
    "\n",
    "print('\\nRatings left by frequent reviewrs:')\n",
    "print(df_tmp['individual_ratings'].value_counts())\n",
    "\n"
   ]
  },
  {
   "cell_type": "code",
   "execution_count": 23,
   "metadata": {},
   "outputs": [
    {
     "data": {
      "text/html": [
       "<div>\n",
       "<style scoped>\n",
       "    .dataframe tbody tr th:only-of-type {\n",
       "        vertical-align: middle;\n",
       "    }\n",
       "\n",
       "    .dataframe tbody tr th {\n",
       "        vertical-align: top;\n",
       "    }\n",
       "\n",
       "    .dataframe thead th {\n",
       "        text-align: right;\n",
       "    }\n",
       "</style>\n",
       "<table border=\"1\" class=\"dataframe\">\n",
       "  <thead>\n",
       "    <tr style=\"text-align: right;\">\n",
       "      <th></th>\n",
       "      <th>number_of_reviews_hotel</th>\n",
       "      <th>average_rating</th>\n",
       "      <th>hotel_star</th>\n",
       "    </tr>\n",
       "    <tr>\n",
       "      <th>Hotel_ID</th>\n",
       "      <th></th>\n",
       "      <th></th>\n",
       "      <th></th>\n",
       "    </tr>\n",
       "  </thead>\n",
       "  <tbody>\n",
       "    <tr>\n",
       "      <th>1</th>\n",
       "      <td>1934</td>\n",
       "      <td>4.5</td>\n",
       "      <td>5.0</td>\n",
       "    </tr>\n",
       "    <tr>\n",
       "      <th>2</th>\n",
       "      <td>1257</td>\n",
       "      <td>4.5</td>\n",
       "      <td>4.0</td>\n",
       "    </tr>\n",
       "    <tr>\n",
       "      <th>3</th>\n",
       "      <td>670</td>\n",
       "      <td>4.5</td>\n",
       "      <td>4.0</td>\n",
       "    </tr>\n",
       "    <tr>\n",
       "      <th>4</th>\n",
       "      <td>2540</td>\n",
       "      <td>4.5</td>\n",
       "      <td>4.0</td>\n",
       "    </tr>\n",
       "    <tr>\n",
       "      <th>5</th>\n",
       "      <td>1391</td>\n",
       "      <td>4.5</td>\n",
       "      <td>4.0</td>\n",
       "    </tr>\n",
       "  </tbody>\n",
       "</table>\n",
       "</div>"
      ],
      "text/plain": [
       "          number_of_reviews_hotel  average_rating  hotel_star\n",
       "Hotel_ID                                                     \n",
       "1                            1934             4.5         5.0\n",
       "2                            1257             4.5         4.0\n",
       "3                             670             4.5         4.0\n",
       "4                            2540             4.5         4.0\n",
       "5                            1391             4.5         4.0"
      ]
     },
     "execution_count": 23,
     "metadata": {},
     "output_type": "execute_result"
    }
   ],
   "source": [
    "#prepare the data for hotel related plots\n",
    "df_tmp = df_data.groupby('Hotel_ID').agg({'review_content': 'count',\n",
    "                                          'average_rating': 'first', \n",
    "                                          'hotel_star': 'first'\n",
    "                                         })\n",
    "df_tmp = df_tmp.rename(columns={'review_content': 'number_of_reviews_hotel'})\n",
    "df_tmp.head()"
   ]
  },
  {
   "cell_type": "code",
   "execution_count": 24,
   "metadata": {},
   "outputs": [
    {
     "data": {
      "image/png": "[encoded data removed]",
      "text/plain": [
       "<Figure size 1440x792 with 3 Axes>"
      ]
     },
     "metadata": {},
     "output_type": "display_data"
    }
   ],
   "source": [
    "column_names = ['average_rating', 'hotel_star', 'number_of_reviews_hotel']\n",
    "plot_distribution(df_tmp, column_names, cols=2, width=20, height=11, hspace=1, wspace=0.5)"
   ]
  },
  {
   "cell_type": "markdown",
   "metadata": {},
   "source": [
    "##### Popular hotels analysis "
   ]
  },
  {
   "cell_type": "code",
   "execution_count": 25,
   "metadata": {
    "scrolled": false
   },
   "outputs": [
    {
     "name": "stdout",
     "output_type": "stream",
     "text": [
      "There are  5  hotels with more than  3672  reviews (99th percentile)\n",
      "Total number of reviews for these hotels:  23605 ( 8.84 % of all data)\n",
      "These hotels have the following stars:  {4.5, 4.0}\n"
     ]
    },
    {
     "data": {
      "image/png": "[encoded data removed]",
      "text/plain": [
       "<Figure size 1440x360 with 2 Axes>"
      ]
     },
     "metadata": {},
     "output_type": "display_data"
    }
   ],
   "source": [
    "pct99 = df_tmp['number_of_reviews_hotel'].quantile(0.99)\n",
    "\n",
    "list_hotel_IDs = list(set(df_tmp[df_tmp['number_of_reviews_hotel'] > pct99].index))\n",
    "print('There are ', len(list_hotel_IDs), ' hotels with more than ', int(pct99), ' reviews (99th percentile)')\n",
    "\n",
    "df_most_reviewd_H = df_data[df_data['Hotel_ID'].isin(list_hotel_IDs)]\n",
    "print('Total number of reviews for these hotels: ', len(df_most_reviewd_H), \n",
    "      '(', int(len(df_most_reviewd_H)/266805*10000)/100, '% of all data)') \n",
    "      \n",
    "print('These hotels have the following stars: ', set(df_most_reviewd_H['hotel_star']))\n",
    "\n",
    "column_names = ['individual_ratings', 'review_content_length']\n",
    "plot_distribution(df_most_reviewd_H, column_names, cols=2, width=20, height=5, hspace=1, wspace=0.5)"
   ]
  },
  {
   "cell_type": "markdown",
   "metadata": {},
   "source": [
    "## Conclusions from Univariate EDA\n",
    "- 7.3% of reviews have helpfulness_vote >= 2, hence topic modeling on this reviews might be misleading but still can give you an idea what people consider important \n",
    "- majority of reviews (77%) are positive and only (11%) are negative (this explains why we have majority of hotel ratings at least 4). We might want to redefine \"positive\" reviews\n",
    "- it looks like reviewers like to stay in the same hotels and give that hotel rating every time (from frequent reviewers analysis and popular hotels analysis). I think those reviews are still relevant for topic modeling\n",
    " "
   ]
  },
  {
   "cell_type": "code",
   "execution_count": 26,
   "metadata": {},
   "outputs": [],
   "source": [
    "# create date period variables\n",
    "df_data['day_of_week'] = df_data['py_review_date'].dt.weekday_name\n",
    "df_data['year'] = df_data['py_review_date'].dt.year.fillna(0).apply(int)\n",
    "df_data['month'] = df_data['py_review_date'].dt.month_name()\n",
    "df_data['year-month'] = df_data['py_review_date'].dt.year.fillna(0).apply(int)*100 + \\\n",
    "                        df_data['py_review_date'].dt.month.fillna(0).apply(int)\n",
    "\n",
    "df_data['quarter'] = 'Q' + df_data['py_review_date'].dt.quarter.fillna(0).apply(int).apply(str)\n",
    "df_data['year-quarter'] = df_data['py_review_date'].dt.year.fillna(0).apply(int).apply(str) + 'Q' + \\\n",
    "                          df_data['py_review_date'].dt.quarter.fillna(0).apply(int).apply(str)"
   ]
  },
  {
   "cell_type": "code",
   "execution_count": 27,
   "metadata": {},
   "outputs": [
    {
     "data": {
      "text/html": [
       "<div>\n",
       "<style scoped>\n",
       "    .dataframe tbody tr th:only-of-type {\n",
       "        vertical-align: middle;\n",
       "    }\n",
       "\n",
       "    .dataframe tbody tr th {\n",
       "        vertical-align: top;\n",
       "    }\n",
       "\n",
       "    .dataframe thead th {\n",
       "        text-align: right;\n",
       "    }\n",
       "</style>\n",
       "<table border=\"1\" class=\"dataframe\">\n",
       "  <thead>\n",
       "    <tr style=\"text-align: right;\">\n",
       "      <th></th>\n",
       "      <th>py_review_date</th>\n",
       "      <th>year</th>\n",
       "      <th>month</th>\n",
       "      <th>year-month</th>\n",
       "      <th>quarter</th>\n",
       "      <th>year-quarter</th>\n",
       "    </tr>\n",
       "  </thead>\n",
       "  <tbody>\n",
       "    <tr>\n",
       "      <th>272241</th>\n",
       "      <td>2010-07-02</td>\n",
       "      <td>2010</td>\n",
       "      <td>July</td>\n",
       "      <td>201007</td>\n",
       "      <td>Q3</td>\n",
       "      <td>2010Q3</td>\n",
       "    </tr>\n",
       "  </tbody>\n",
       "</table>\n",
       "</div>"
      ],
      "text/plain": [
       "       py_review_date  year month  year-month quarter year-quarter\n",
       "272241     2010-07-02  2010  July      201007      Q3       2010Q3"
      ]
     },
     "execution_count": 27,
     "metadata": {},
     "output_type": "execute_result"
    }
   ],
   "source": [
    "#example of the date variables\n",
    "df_data[['py_review_date', 'year', 'month', 'year-month', 'quarter', 'year-quarter']].tail(1)"
   ]
  },
  {
   "cell_type": "markdown",
   "metadata": {},
   "source": [
    "### Transfer data frame between Jupiter notebooks\n",
    "Next step \"Text preprocessing\" is coded in separate Jupiter notebook. So that\n",
    "- it is easier to locate program for a particular task\n",
    "- Jupiter notebook is not very long and easier to read\n",
    "\n",
    "Use pickle.load() to save pandas data frame with cleaned data preserving object structure to be used in other programs"
   ]
  },
  {
   "cell_type": "code",
   "execution_count": 28,
   "metadata": {},
   "outputs": [],
   "source": [
    "with open(output_folder + 'clean_data.pickle', 'wb') as f:\n",
    "    # Pickle the 'data' dictionary using the highest protocol available.\n",
    "    pickle.dump(df_data, f, pickle.HIGHEST_PROTOCOL)"
   ]
  }
 ],
 "metadata": {
  "kernelspec": {
   "display_name": "Python 3",
   "language": "python",
   "name": "python3"
  },
  "language_info": {
   "codemirror_mode": {
    "name": "ipython",
    "version": 3
   },
   "file_extension": ".py",
   "mimetype": "text/x-python",
   "name": "python",
   "nbconvert_exporter": "python",
   "pygments_lexer": "ipython3",
   "version": "3.7.4"
  },
  "toc": {
   "base_numbering": 1,
   "nav_menu": {},
   "number_sections": true,
   "sideBar": true,
   "skip_h1_title": false,
   "title_cell": "Table of Contents",
   "title_sidebar": "Contents",
   "toc_cell": false,
   "toc_position": {},
   "toc_section_display": true,
   "toc_window_display": true
  }
 },
 "nbformat": 4,
 "nbformat_minor": 2
}
